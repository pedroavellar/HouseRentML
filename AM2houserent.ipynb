{
  "nbformat": 4,
  "nbformat_minor": 0,
  "metadata": {
    "colab": {
      "name": "AM2houserent.ipynb",
      "provenance": [],
      "collapsed_sections": [],
      "include_colab_link": true
    },
    "kernelspec": {
      "name": "python3",
      "display_name": "Python 3"
    }
  },
  "cells": [
    {
      "cell_type": "markdown",
      "metadata": {
        "id": "view-in-github",
        "colab_type": "text"
      },
      "source": [
        "<a href=\"https://colab.research.google.com/github/pedroavellar/HouseRentML/blob/master/AM2houserent.ipynb\" target=\"_parent\"><img src=\"https://colab.research.google.com/assets/colab-badge.svg\" alt=\"Open In Colab\"/></a>"
      ]
    },
    {
      "cell_type": "markdown",
      "metadata": {
        "id": "-j01HFh8SMAu",
        "colab_type": "text"
      },
      "source": [
        "Olá! Este notebook foi utilizado para criar um artigo a ser enviado a disciplina de Aprendizado de Máquina do ICMC em 2020. \n",
        "\n",
        "Esta é a versão 2.0! O artigo está disponível em [link artigo]\n",
        "\n",
        "Trabalhamos com o dataset com casas para alugar, no Brasil, disponível em https://www.kaggle.com/rubenssjr/brasilian-houses-to-rent"
      ]
    },
    {
      "cell_type": "code",
      "metadata": {
        "id": "0u8UvWI5opXW",
        "colab_type": "code",
        "colab": {
          "base_uri": "https://localhost:8080/",
          "height": 204
        },
        "outputId": "154ed94a-d1f3-417a-b8de-f8e0045719a4"
      },
      "source": [
        "import pandas as pd\n",
        "\n",
        "uri = 'https://raw.githubusercontent.com/pedroavellar/HouseRentML/master/houses_to_rent_v2.csv'\n",
        "raw_rent_data = pd.read_csv(uri)\n",
        "raw_rent_data.head()"
      ],
      "execution_count": null,
      "outputs": [
        {
          "output_type": "execute_result",
          "data": {
            "text/html": [
              "<div>\n",
              "<style scoped>\n",
              "    .dataframe tbody tr th:only-of-type {\n",
              "        vertical-align: middle;\n",
              "    }\n",
              "\n",
              "    .dataframe tbody tr th {\n",
              "        vertical-align: top;\n",
              "    }\n",
              "\n",
              "    .dataframe thead th {\n",
              "        text-align: right;\n",
              "    }\n",
              "</style>\n",
              "<table border=\"1\" class=\"dataframe\">\n",
              "  <thead>\n",
              "    <tr style=\"text-align: right;\">\n",
              "      <th></th>\n",
              "      <th>city</th>\n",
              "      <th>area</th>\n",
              "      <th>rooms</th>\n",
              "      <th>bathroom</th>\n",
              "      <th>parking spaces</th>\n",
              "      <th>floor</th>\n",
              "      <th>animal</th>\n",
              "      <th>furniture</th>\n",
              "      <th>hoa (R$)</th>\n",
              "      <th>rent amount (R$)</th>\n",
              "      <th>property tax (R$)</th>\n",
              "      <th>fire insurance (R$)</th>\n",
              "      <th>total (R$)</th>\n",
              "    </tr>\n",
              "  </thead>\n",
              "  <tbody>\n",
              "    <tr>\n",
              "      <th>0</th>\n",
              "      <td>São Paulo</td>\n",
              "      <td>70</td>\n",
              "      <td>2</td>\n",
              "      <td>1</td>\n",
              "      <td>1</td>\n",
              "      <td>7</td>\n",
              "      <td>acept</td>\n",
              "      <td>furnished</td>\n",
              "      <td>2065</td>\n",
              "      <td>3300</td>\n",
              "      <td>211</td>\n",
              "      <td>42</td>\n",
              "      <td>5618</td>\n",
              "    </tr>\n",
              "    <tr>\n",
              "      <th>1</th>\n",
              "      <td>São Paulo</td>\n",
              "      <td>320</td>\n",
              "      <td>4</td>\n",
              "      <td>4</td>\n",
              "      <td>0</td>\n",
              "      <td>20</td>\n",
              "      <td>acept</td>\n",
              "      <td>not furnished</td>\n",
              "      <td>1200</td>\n",
              "      <td>4960</td>\n",
              "      <td>1750</td>\n",
              "      <td>63</td>\n",
              "      <td>7973</td>\n",
              "    </tr>\n",
              "    <tr>\n",
              "      <th>2</th>\n",
              "      <td>Porto Alegre</td>\n",
              "      <td>80</td>\n",
              "      <td>1</td>\n",
              "      <td>1</td>\n",
              "      <td>1</td>\n",
              "      <td>6</td>\n",
              "      <td>acept</td>\n",
              "      <td>not furnished</td>\n",
              "      <td>1000</td>\n",
              "      <td>2800</td>\n",
              "      <td>0</td>\n",
              "      <td>41</td>\n",
              "      <td>3841</td>\n",
              "    </tr>\n",
              "    <tr>\n",
              "      <th>3</th>\n",
              "      <td>Porto Alegre</td>\n",
              "      <td>51</td>\n",
              "      <td>2</td>\n",
              "      <td>1</td>\n",
              "      <td>0</td>\n",
              "      <td>2</td>\n",
              "      <td>acept</td>\n",
              "      <td>not furnished</td>\n",
              "      <td>270</td>\n",
              "      <td>1112</td>\n",
              "      <td>22</td>\n",
              "      <td>17</td>\n",
              "      <td>1421</td>\n",
              "    </tr>\n",
              "    <tr>\n",
              "      <th>4</th>\n",
              "      <td>São Paulo</td>\n",
              "      <td>25</td>\n",
              "      <td>1</td>\n",
              "      <td>1</td>\n",
              "      <td>0</td>\n",
              "      <td>1</td>\n",
              "      <td>not acept</td>\n",
              "      <td>not furnished</td>\n",
              "      <td>0</td>\n",
              "      <td>800</td>\n",
              "      <td>25</td>\n",
              "      <td>11</td>\n",
              "      <td>836</td>\n",
              "    </tr>\n",
              "  </tbody>\n",
              "</table>\n",
              "</div>"
            ],
            "text/plain": [
              "           city  area  ...  fire insurance (R$)  total (R$)\n",
              "0     São Paulo    70  ...                   42        5618\n",
              "1     São Paulo   320  ...                   63        7973\n",
              "2  Porto Alegre    80  ...                   41        3841\n",
              "3  Porto Alegre    51  ...                   17        1421\n",
              "4     São Paulo    25  ...                   11         836\n",
              "\n",
              "[5 rows x 13 columns]"
            ]
          },
          "metadata": {
            "tags": []
          },
          "execution_count": 306
        }
      ]
    },
    {
      "cell_type": "code",
      "metadata": {
        "id": "99rM6kT1quyz",
        "colab_type": "code",
        "colab": {
          "base_uri": "https://localhost:8080/",
          "height": 51
        },
        "outputId": "9407722a-01fe-4138-cd6f-73850a1146be"
      },
      "source": [
        "raw_rent_data['city'].unique()"
      ],
      "execution_count": null,
      "outputs": [
        {
          "output_type": "execute_result",
          "data": {
            "text/plain": [
              "array(['São Paulo', 'Porto Alegre', 'Rio de Janeiro', 'Campinas',\n",
              "       'Belo Horizonte'], dtype=object)"
            ]
          },
          "metadata": {
            "tags": []
          },
          "execution_count": 307
        }
      ]
    },
    {
      "cell_type": "markdown",
      "metadata": {
        "id": "tfoP8YWM_oqq",
        "colab_type": "text"
      },
      "source": [
        "2.0 - NÃO EXISTEM VALORES FALTANTES! Apenas em 'floor', temos '-', mas faz sentido já que em algumas residências este atributo não se aplica."
      ]
    },
    {
      "cell_type": "code",
      "metadata": {
        "id": "b9fGepPS-FYq",
        "colab_type": "code",
        "colab": {
          "base_uri": "https://localhost:8080/",
          "height": 34
        },
        "outputId": "10c85737-157b-432b-b1dd-963a8bf8a8b8"
      },
      "source": [
        "raw_rent_data.isnull().values.any()"
      ],
      "execution_count": null,
      "outputs": [
        {
          "output_type": "execute_result",
          "data": {
            "text/plain": [
              "False"
            ]
          },
          "metadata": {
            "tags": []
          },
          "execution_count": 308
        }
      ]
    },
    {
      "cell_type": "markdown",
      "metadata": {
        "id": "m0kELz_dS4r4",
        "colab_type": "text"
      },
      "source": [
        "Temos nosso dataset. Agora vamos limpá-lo, removendo duplicações, outliers e alterando variáveis para analisar."
      ]
    },
    {
      "cell_type": "code",
      "metadata": {
        "id": "xgeebZgsrcGj",
        "colab_type": "code",
        "colab": {}
      },
      "source": [
        "rent_data = raw_rent_data.copy()\n",
        "\n",
        "rent_data.drop_duplicates(inplace=True)\n",
        "\n",
        "pet_friendly = {'acept': 1, 'not acept': 0}\n",
        "furn_situation = {'furnished': 1, 'not furnished': 0}\n",
        "city_map = {'Belo Horizonte': 1, 'Campinas': 2, 'Porto Alegre': 3, 'Rio de Janeiro': 4, 'São Paulo': 5}\n",
        "\n",
        "rent_data.animal = [pet_friendly[item] for item in rent_data.animal]\n",
        "rent_data.furniture = [furn_situation[item] for item in rent_data.furniture]\n",
        "rent_data.city = [city_map[item] for item in rent_data.city]"
      ],
      "execution_count": null,
      "outputs": []
    },
    {
      "cell_type": "code",
      "metadata": {
        "id": "daIibGeOG_oQ",
        "colab_type": "code",
        "colab": {
          "base_uri": "https://localhost:8080/",
          "height": 34
        },
        "outputId": "695d5fef-8b5c-4d89-c7e6-4f50a16c8a8b"
      },
      "source": [
        "len(rent_data.drop_duplicates())"
      ],
      "execution_count": null,
      "outputs": [
        {
          "output_type": "execute_result",
          "data": {
            "text/plain": [
              "10334"
            ]
          },
          "metadata": {
            "tags": []
          },
          "execution_count": 310
        }
      ]
    },
    {
      "cell_type": "code",
      "metadata": {
        "id": "tJe8PjsLsHZW",
        "colab_type": "code",
        "colab": {
          "base_uri": "https://localhost:8080/",
          "height": 204
        },
        "outputId": "ac2e93dc-3b6a-4fc8-c77c-45999a823a4d"
      },
      "source": [
        "rent_data.head()"
      ],
      "execution_count": null,
      "outputs": [
        {
          "output_type": "execute_result",
          "data": {
            "text/html": [
              "<div>\n",
              "<style scoped>\n",
              "    .dataframe tbody tr th:only-of-type {\n",
              "        vertical-align: middle;\n",
              "    }\n",
              "\n",
              "    .dataframe tbody tr th {\n",
              "        vertical-align: top;\n",
              "    }\n",
              "\n",
              "    .dataframe thead th {\n",
              "        text-align: right;\n",
              "    }\n",
              "</style>\n",
              "<table border=\"1\" class=\"dataframe\">\n",
              "  <thead>\n",
              "    <tr style=\"text-align: right;\">\n",
              "      <th></th>\n",
              "      <th>city</th>\n",
              "      <th>area</th>\n",
              "      <th>rooms</th>\n",
              "      <th>bathroom</th>\n",
              "      <th>parking spaces</th>\n",
              "      <th>floor</th>\n",
              "      <th>animal</th>\n",
              "      <th>furniture</th>\n",
              "      <th>hoa (R$)</th>\n",
              "      <th>rent amount (R$)</th>\n",
              "      <th>property tax (R$)</th>\n",
              "      <th>fire insurance (R$)</th>\n",
              "      <th>total (R$)</th>\n",
              "    </tr>\n",
              "  </thead>\n",
              "  <tbody>\n",
              "    <tr>\n",
              "      <th>0</th>\n",
              "      <td>5</td>\n",
              "      <td>70</td>\n",
              "      <td>2</td>\n",
              "      <td>1</td>\n",
              "      <td>1</td>\n",
              "      <td>7</td>\n",
              "      <td>1</td>\n",
              "      <td>1</td>\n",
              "      <td>2065</td>\n",
              "      <td>3300</td>\n",
              "      <td>211</td>\n",
              "      <td>42</td>\n",
              "      <td>5618</td>\n",
              "    </tr>\n",
              "    <tr>\n",
              "      <th>1</th>\n",
              "      <td>5</td>\n",
              "      <td>320</td>\n",
              "      <td>4</td>\n",
              "      <td>4</td>\n",
              "      <td>0</td>\n",
              "      <td>20</td>\n",
              "      <td>1</td>\n",
              "      <td>0</td>\n",
              "      <td>1200</td>\n",
              "      <td>4960</td>\n",
              "      <td>1750</td>\n",
              "      <td>63</td>\n",
              "      <td>7973</td>\n",
              "    </tr>\n",
              "    <tr>\n",
              "      <th>2</th>\n",
              "      <td>3</td>\n",
              "      <td>80</td>\n",
              "      <td>1</td>\n",
              "      <td>1</td>\n",
              "      <td>1</td>\n",
              "      <td>6</td>\n",
              "      <td>1</td>\n",
              "      <td>0</td>\n",
              "      <td>1000</td>\n",
              "      <td>2800</td>\n",
              "      <td>0</td>\n",
              "      <td>41</td>\n",
              "      <td>3841</td>\n",
              "    </tr>\n",
              "    <tr>\n",
              "      <th>3</th>\n",
              "      <td>3</td>\n",
              "      <td>51</td>\n",
              "      <td>2</td>\n",
              "      <td>1</td>\n",
              "      <td>0</td>\n",
              "      <td>2</td>\n",
              "      <td>1</td>\n",
              "      <td>0</td>\n",
              "      <td>270</td>\n",
              "      <td>1112</td>\n",
              "      <td>22</td>\n",
              "      <td>17</td>\n",
              "      <td>1421</td>\n",
              "    </tr>\n",
              "    <tr>\n",
              "      <th>4</th>\n",
              "      <td>5</td>\n",
              "      <td>25</td>\n",
              "      <td>1</td>\n",
              "      <td>1</td>\n",
              "      <td>0</td>\n",
              "      <td>1</td>\n",
              "      <td>0</td>\n",
              "      <td>0</td>\n",
              "      <td>0</td>\n",
              "      <td>800</td>\n",
              "      <td>25</td>\n",
              "      <td>11</td>\n",
              "      <td>836</td>\n",
              "    </tr>\n",
              "  </tbody>\n",
              "</table>\n",
              "</div>"
            ],
            "text/plain": [
              "   city  area  rooms  ...  property tax (R$)  fire insurance (R$) total (R$)\n",
              "0     5    70      2  ...                211                   42       5618\n",
              "1     5   320      4  ...               1750                   63       7973\n",
              "2     3    80      1  ...                  0                   41       3841\n",
              "3     3    51      2  ...                 22                   17       1421\n",
              "4     5    25      1  ...                 25                   11        836\n",
              "\n",
              "[5 rows x 13 columns]"
            ]
          },
          "metadata": {
            "tags": []
          },
          "execution_count": 311
        }
      ]
    },
    {
      "cell_type": "code",
      "metadata": {
        "id": "5fbMXorW3fps",
        "colab_type": "code",
        "colab": {
          "base_uri": "https://localhost:8080/",
          "height": 472
        },
        "outputId": "377bbcbd-d480-4124-c160-d71a0db6020e"
      },
      "source": [
        "rent_data.corr()"
      ],
      "execution_count": null,
      "outputs": [
        {
          "output_type": "execute_result",
          "data": {
            "text/html": [
              "<div>\n",
              "<style scoped>\n",
              "    .dataframe tbody tr th:only-of-type {\n",
              "        vertical-align: middle;\n",
              "    }\n",
              "\n",
              "    .dataframe tbody tr th {\n",
              "        vertical-align: top;\n",
              "    }\n",
              "\n",
              "    .dataframe thead th {\n",
              "        text-align: right;\n",
              "    }\n",
              "</style>\n",
              "<table border=\"1\" class=\"dataframe\">\n",
              "  <thead>\n",
              "    <tr style=\"text-align: right;\">\n",
              "      <th></th>\n",
              "      <th>city</th>\n",
              "      <th>area</th>\n",
              "      <th>rooms</th>\n",
              "      <th>bathroom</th>\n",
              "      <th>parking spaces</th>\n",
              "      <th>animal</th>\n",
              "      <th>furniture</th>\n",
              "      <th>hoa (R$)</th>\n",
              "      <th>rent amount (R$)</th>\n",
              "      <th>property tax (R$)</th>\n",
              "      <th>fire insurance (R$)</th>\n",
              "      <th>total (R$)</th>\n",
              "    </tr>\n",
              "  </thead>\n",
              "  <tbody>\n",
              "    <tr>\n",
              "      <th>city</th>\n",
              "      <td>1.000000</td>\n",
              "      <td>-0.011079</td>\n",
              "      <td>-0.050135</td>\n",
              "      <td>0.087097</td>\n",
              "      <td>0.046532</td>\n",
              "      <td>-0.014973</td>\n",
              "      <td>0.111979</td>\n",
              "      <td>0.003262</td>\n",
              "      <td>0.189965</td>\n",
              "      <td>0.037836</td>\n",
              "      <td>0.149550</td>\n",
              "      <td>0.064480</td>\n",
              "    </tr>\n",
              "    <tr>\n",
              "      <th>area</th>\n",
              "      <td>-0.011079</td>\n",
              "      <td>1.000000</td>\n",
              "      <td>0.191251</td>\n",
              "      <td>0.224388</td>\n",
              "      <td>0.191421</td>\n",
              "      <td>0.038712</td>\n",
              "      <td>0.009249</td>\n",
              "      <td>0.009085</td>\n",
              "      <td>0.178228</td>\n",
              "      <td>0.038453</td>\n",
              "      <td>0.185652</td>\n",
              "      <td>0.066849</td>\n",
              "    </tr>\n",
              "    <tr>\n",
              "      <th>rooms</th>\n",
              "      <td>-0.050135</td>\n",
              "      <td>0.191251</td>\n",
              "      <td>1.000000</td>\n",
              "      <td>0.730469</td>\n",
              "      <td>0.611634</td>\n",
              "      <td>0.165436</td>\n",
              "      <td>-0.075677</td>\n",
              "      <td>0.020466</td>\n",
              "      <td>0.536632</td>\n",
              "      <td>0.073539</td>\n",
              "      <td>0.560907</td>\n",
              "      <td>0.184519</td>\n",
              "    </tr>\n",
              "    <tr>\n",
              "      <th>bathroom</th>\n",
              "      <td>0.087097</td>\n",
              "      <td>0.224388</td>\n",
              "      <td>0.730469</td>\n",
              "      <td>1.000000</td>\n",
              "      <td>0.693952</td>\n",
              "      <td>0.114685</td>\n",
              "      <td>0.023140</td>\n",
              "      <td>0.057297</td>\n",
              "      <td>0.665625</td>\n",
              "      <td>0.108083</td>\n",
              "      <td>0.673771</td>\n",
              "      <td>0.261833</td>\n",
              "    </tr>\n",
              "    <tr>\n",
              "      <th>parking spaces</th>\n",
              "      <td>0.046532</td>\n",
              "      <td>0.191421</td>\n",
              "      <td>0.611634</td>\n",
              "      <td>0.693952</td>\n",
              "      <td>1.000000</td>\n",
              "      <td>0.124266</td>\n",
              "      <td>-0.003788</td>\n",
              "      <td>0.021100</td>\n",
              "      <td>0.573997</td>\n",
              "      <td>0.097159</td>\n",
              "      <td>0.593557</td>\n",
              "      <td>0.201245</td>\n",
              "    </tr>\n",
              "    <tr>\n",
              "      <th>animal</th>\n",
              "      <td>-0.014973</td>\n",
              "      <td>0.038712</td>\n",
              "      <td>0.165436</td>\n",
              "      <td>0.114685</td>\n",
              "      <td>0.124266</td>\n",
              "      <td>1.000000</td>\n",
              "      <td>-0.081020</td>\n",
              "      <td>-0.013845</td>\n",
              "      <td>0.064576</td>\n",
              "      <td>-0.004238</td>\n",
              "      <td>0.076535</td>\n",
              "      <td>0.004244</td>\n",
              "    </tr>\n",
              "    <tr>\n",
              "      <th>furniture</th>\n",
              "      <td>0.111979</td>\n",
              "      <td>0.009249</td>\n",
              "      <td>-0.075677</td>\n",
              "      <td>0.023140</td>\n",
              "      <td>-0.003788</td>\n",
              "      <td>-0.081020</td>\n",
              "      <td>1.000000</td>\n",
              "      <td>0.009767</td>\n",
              "      <td>0.166975</td>\n",
              "      <td>0.001147</td>\n",
              "      <td>0.144082</td>\n",
              "      <td>0.054942</td>\n",
              "    </tr>\n",
              "    <tr>\n",
              "      <th>hoa (R$)</th>\n",
              "      <td>0.003262</td>\n",
              "      <td>0.009085</td>\n",
              "      <td>0.020466</td>\n",
              "      <td>0.057297</td>\n",
              "      <td>0.021100</td>\n",
              "      <td>-0.013845</td>\n",
              "      <td>0.009767</td>\n",
              "      <td>1.000000</td>\n",
              "      <td>0.052516</td>\n",
              "      <td>0.011267</td>\n",
              "      <td>0.042833</td>\n",
              "      <td>0.920770</td>\n",
              "    </tr>\n",
              "    <tr>\n",
              "      <th>rent amount (R$)</th>\n",
              "      <td>0.189965</td>\n",
              "      <td>0.178228</td>\n",
              "      <td>0.536632</td>\n",
              "      <td>0.665625</td>\n",
              "      <td>0.573997</td>\n",
              "      <td>0.064576</td>\n",
              "      <td>0.166975</td>\n",
              "      <td>0.052516</td>\n",
              "      <td>1.000000</td>\n",
              "      <td>0.106679</td>\n",
              "      <td>0.987203</td>\n",
              "      <td>0.349045</td>\n",
              "    </tr>\n",
              "    <tr>\n",
              "      <th>property tax (R$)</th>\n",
              "      <td>0.037836</td>\n",
              "      <td>0.038453</td>\n",
              "      <td>0.073539</td>\n",
              "      <td>0.108083</td>\n",
              "      <td>0.097159</td>\n",
              "      <td>-0.004238</td>\n",
              "      <td>0.001147</td>\n",
              "      <td>0.011267</td>\n",
              "      <td>0.106679</td>\n",
              "      <td>1.000000</td>\n",
              "      <td>0.104473</td>\n",
              "      <td>0.288968</td>\n",
              "    </tr>\n",
              "    <tr>\n",
              "      <th>fire insurance (R$)</th>\n",
              "      <td>0.149550</td>\n",
              "      <td>0.185652</td>\n",
              "      <td>0.560907</td>\n",
              "      <td>0.673771</td>\n",
              "      <td>0.593557</td>\n",
              "      <td>0.076535</td>\n",
              "      <td>0.144082</td>\n",
              "      <td>0.042833</td>\n",
              "      <td>0.987203</td>\n",
              "      <td>0.104473</td>\n",
              "      <td>1.000000</td>\n",
              "      <td>0.336324</td>\n",
              "    </tr>\n",
              "    <tr>\n",
              "      <th>total (R$)</th>\n",
              "      <td>0.064480</td>\n",
              "      <td>0.066849</td>\n",
              "      <td>0.184519</td>\n",
              "      <td>0.261833</td>\n",
              "      <td>0.201245</td>\n",
              "      <td>0.004244</td>\n",
              "      <td>0.054942</td>\n",
              "      <td>0.920770</td>\n",
              "      <td>0.349045</td>\n",
              "      <td>0.288968</td>\n",
              "      <td>0.336324</td>\n",
              "      <td>1.000000</td>\n",
              "    </tr>\n",
              "  </tbody>\n",
              "</table>\n",
              "</div>"
            ],
            "text/plain": [
              "                         city      area  ...  fire insurance (R$)  total (R$)\n",
              "city                 1.000000 -0.011079  ...             0.149550    0.064480\n",
              "area                -0.011079  1.000000  ...             0.185652    0.066849\n",
              "rooms               -0.050135  0.191251  ...             0.560907    0.184519\n",
              "bathroom             0.087097  0.224388  ...             0.673771    0.261833\n",
              "parking spaces       0.046532  0.191421  ...             0.593557    0.201245\n",
              "animal              -0.014973  0.038712  ...             0.076535    0.004244\n",
              "furniture            0.111979  0.009249  ...             0.144082    0.054942\n",
              "hoa (R$)             0.003262  0.009085  ...             0.042833    0.920770\n",
              "rent amount (R$)     0.189965  0.178228  ...             0.987203    0.349045\n",
              "property tax (R$)    0.037836  0.038453  ...             0.104473    0.288968\n",
              "fire insurance (R$)  0.149550  0.185652  ...             1.000000    0.336324\n",
              "total (R$)           0.064480  0.066849  ...             0.336324    1.000000\n",
              "\n",
              "[12 rows x 12 columns]"
            ]
          },
          "metadata": {
            "tags": []
          },
          "execution_count": 312
        }
      ]
    },
    {
      "cell_type": "code",
      "metadata": {
        "id": "roiJN-fqCcBN",
        "colab_type": "code",
        "colab": {
          "base_uri": "https://localhost:8080/",
          "height": 357
        },
        "outputId": "47885a55-8a8b-48bc-99bc-712128f40b5e"
      },
      "source": [
        "#2.0\n",
        "rent_data.info()"
      ],
      "execution_count": null,
      "outputs": [
        {
          "output_type": "stream",
          "text": [
            "<class 'pandas.core.frame.DataFrame'>\n",
            "Int64Index: 10334 entries, 0 to 10691\n",
            "Data columns (total 13 columns):\n",
            " #   Column               Non-Null Count  Dtype \n",
            "---  ------               --------------  ----- \n",
            " 0   city                 10334 non-null  int64 \n",
            " 1   area                 10334 non-null  int64 \n",
            " 2   rooms                10334 non-null  int64 \n",
            " 3   bathroom             10334 non-null  int64 \n",
            " 4   parking spaces       10334 non-null  int64 \n",
            " 5   floor                10334 non-null  object\n",
            " 6   animal               10334 non-null  int64 \n",
            " 7   furniture            10334 non-null  int64 \n",
            " 8   hoa (R$)             10334 non-null  int64 \n",
            " 9   rent amount (R$)     10334 non-null  int64 \n",
            " 10  property tax (R$)    10334 non-null  int64 \n",
            " 11  fire insurance (R$)  10334 non-null  int64 \n",
            " 12  total (R$)           10334 non-null  int64 \n",
            "dtypes: int64(12), object(1)\n",
            "memory usage: 1.1+ MB\n"
          ],
          "name": "stdout"
        }
      ]
    },
    {
      "cell_type": "markdown",
      "metadata": {
        "id": "ldRto4XCDifP",
        "colab_type": "text"
      },
      "source": [
        "Tranformar o '-' de floor em valor numérico."
      ]
    },
    {
      "cell_type": "code",
      "metadata": {
        "id": "69C-0cwx_k2V",
        "colab_type": "code",
        "colab": {}
      },
      "source": [
        "rent_data['floor'].replace('-', 0, inplace=True)"
      ],
      "execution_count": null,
      "outputs": []
    },
    {
      "cell_type": "code",
      "metadata": {
        "id": "5XRve-5lAs6i",
        "colab_type": "code",
        "colab": {}
      },
      "source": [
        "rent_data['floor'] = pd.to_numeric(rent_data['floor'])"
      ],
      "execution_count": null,
      "outputs": []
    },
    {
      "cell_type": "code",
      "metadata": {
        "id": "Q0_PVJWmF3J4",
        "colab_type": "code",
        "colab": {}
      },
      "source": [
        "rent_data.reset_index(drop=True, inplace=True)"
      ],
      "execution_count": null,
      "outputs": []
    },
    {
      "cell_type": "code",
      "metadata": {
        "id": "BvH-9M1P31eZ",
        "colab_type": "code",
        "colab": {
          "base_uri": "https://localhost:8080/",
          "height": 424
        },
        "outputId": "dd1a5ea5-a655-4cfc-8da4-f1af1af4aa56"
      },
      "source": [
        "import seaborn as sns\n",
        "import matplotlib.pyplot as plt\n",
        "#2.0\n",
        "plt.figure(figsize=(16,5))\n",
        "sns.heatmap(data=rent_data.corr(), annot=True)\n",
        "#sns.pairplot(rent_data)"
      ],
      "execution_count": null,
      "outputs": [
        {
          "output_type": "execute_result",
          "data": {
            "text/plain": [
              "<matplotlib.axes._subplots.AxesSubplot at 0x7f8937d141d0>"
            ]
          },
          "metadata": {
            "tags": []
          },
          "execution_count": 317
        },
        {
          "output_type": "display_data",
          "data": {
            "image/png": "[encoded data removed]",
            "text/plain": [
              "<Figure size 1152x360 with 2 Axes>"
            ]
          },
          "metadata": {
            "tags": []
          }
        }
      ]
    },
    {
      "cell_type": "code",
      "metadata": {
        "id": "w2Qn2c7t41JS",
        "colab_type": "code",
        "colab": {
          "base_uri": "https://localhost:8080/",
          "height": 452
        },
        "outputId": "29cba9a3-63f5-43a4-f7d5-423bf67c5914"
      },
      "source": [
        "sns.set_style(\"whitegrid\")\n",
        "#2.0\n",
        "rent_data['city'].value_counts(sort=False).sort_index().plot(kind='bar')\n",
        "labels = ['Belo Horizonte', 'Campinas', 'Porto Alegre', 'Rio de Janeiro', 'São Paulo']\n",
        "plt.xticks([0,1,2,3,4], labels, rotation=10)\n",
        "\n",
        "# Tem muito mais entradas de São Paulo"
      ],
      "execution_count": null,
      "outputs": [
        {
          "output_type": "execute_result",
          "data": {
            "text/plain": [
              "([<matplotlib.axis.XTick at 0x7f89377c3160>,\n",
              "  <matplotlib.axis.XTick at 0x7f89377c3128>,\n",
              "  <matplotlib.axis.XTick at 0x7f8937759710>,\n",
              "  <matplotlib.axis.XTick at 0x7f8937774c50>,\n",
              "  <matplotlib.axis.XTick at 0x7f8937774da0>],\n",
              " [Text(0, 0, 'Belo Horizonte'),\n",
              "  Text(0, 0, 'Campinas'),\n",
              "  Text(0, 0, 'Porto Alegre'),\n",
              "  Text(0, 0, 'Rio de Janeiro'),\n",
              "  Text(0, 0, 'São Paulo')])"
            ]
          },
          "metadata": {
            "tags": []
          },
          "execution_count": 320
        },
        {
          "output_type": "display_data",
          "data": {
            "image/png": "[encoded data removed]",
            "text/plain": [
              "<Figure size 432x288 with 1 Axes>"
            ]
          },
          "metadata": {
            "tags": []
          }
        }
      ]
    },
    {
      "cell_type": "code",
      "metadata": {
        "id": "XXh89Ztx6yqr",
        "colab_type": "code",
        "colab": {
          "base_uri": "https://localhost:8080/",
          "height": 282
        },
        "outputId": "1b0fe417-81bb-4dae-9ae8-8577c64bcf4e"
      },
      "source": [
        "rent_data['area'].plot(kind='line')"
      ],
      "execution_count": null,
      "outputs": [
        {
          "output_type": "execute_result",
          "data": {
            "text/plain": [
              "<matplotlib.axes._subplots.AxesSubplot at 0x7f893777e1d0>"
            ]
          },
          "metadata": {
            "tags": []
          },
          "execution_count": 321
        },
        {
          "output_type": "display_data",
          "data": {
            "image/png": "[encoded data removed]",
            "text/plain": [
              "<Figure size 432x288 with 1 Axes>"
            ]
          },
          "metadata": {
            "tags": []
          }
        }
      ]
    },
    {
      "cell_type": "markdown",
      "metadata": {
        "id": "wIQNycvI_tfU",
        "colab_type": "text"
      },
      "source": [
        "Podemos ver que existem 3 casos que tem uma área muito maior do que o resto.\n",
        "Vamos tirá-las para evitar que atrapalhem a análise \n"
      ]
    },
    {
      "cell_type": "code",
      "metadata": {
        "id": "KRZqzqCu6yg1",
        "colab_type": "code",
        "colab": {}
      },
      "source": [
        "#10334\n",
        "rent_data = rent_data[rent_data['area'] < 5000]\n",
        "#10331"
      ],
      "execution_count": null,
      "outputs": []
    },
    {
      "cell_type": "code",
      "metadata": {
        "id": "sk-XGJLlCpt2",
        "colab_type": "code",
        "colab": {
          "base_uri": "https://localhost:8080/",
          "height": 282
        },
        "outputId": "4137e500-bd93-4c25-ab35-0095529f684a"
      },
      "source": [
        "rent_data['area'].plot(kind='line')"
      ],
      "execution_count": null,
      "outputs": [
        {
          "output_type": "execute_result",
          "data": {
            "text/plain": [
              "<matplotlib.axes._subplots.AxesSubplot at 0x7f89376fecc0>"
            ]
          },
          "metadata": {
            "tags": []
          },
          "execution_count": 323
        },
        {
          "output_type": "display_data",
          "data": {
            "image/png": "[encoded data removed]",
            "text/plain": [
              "<Figure size 432x288 with 1 Axes>"
            ]
          },
          "metadata": {
            "tags": []
          }
        }
      ]
    },
    {
      "cell_type": "code",
      "metadata": {
        "id": "DCNj58ApCsY3",
        "colab_type": "code",
        "colab": {
          "base_uri": "https://localhost:8080/",
          "height": 285
        },
        "outputId": "5086cb43-f5bc-48d4-cb28-c54f0cfa3108"
      },
      "source": [
        "#rent_data['rooms'].plot(kind='hist')\n",
        "#2.0\n",
        "rent_data['rooms'].value_counts(sort=False).sort_index().plot(kind='bar')"
      ],
      "execution_count": null,
      "outputs": [
        {
          "output_type": "execute_result",
          "data": {
            "text/plain": [
              "<matplotlib.axes._subplots.AxesSubplot at 0x7f8937658438>"
            ]
          },
          "metadata": {
            "tags": []
          },
          "execution_count": 324
        },
        {
          "output_type": "display_data",
          "data": {
            "image/png": "[encoded data removed]",
            "text/plain": [
              "<Figure size 432x288 with 1 Axes>"
            ]
          },
          "metadata": {
            "tags": []
          }
        }
      ]
    },
    {
      "cell_type": "code",
      "metadata": {
        "id": "bpe6c9KyD0im",
        "colab_type": "code",
        "colab": {
          "base_uri": "https://localhost:8080/",
          "height": 119
        },
        "outputId": "a2b0dadc-8785-455b-d375-49915bb48aad"
      },
      "source": [
        "print(rent_data['animal'].value_counts())\n",
        "print(rent_data['furniture'].value_counts())"
      ],
      "execution_count": null,
      "outputs": [
        {
          "output_type": "stream",
          "text": [
            "1    8073\n",
            "0    2258\n",
            "Name: animal, dtype: int64\n",
            "0    7817\n",
            "1    2514\n",
            "Name: furniture, dtype: int64\n"
          ],
          "name": "stdout"
        }
      ]
    },
    {
      "cell_type": "code",
      "metadata": {
        "id": "7r6A0fntEGuT",
        "colab_type": "code",
        "colab": {
          "base_uri": "https://localhost:8080/",
          "height": 51
        },
        "outputId": "63ed0941-0eef-4fda-85b5-08802b056c71"
      },
      "source": [
        "print(8073/(8073+2258))\n",
        "print(2514/(7817+2514))"
      ],
      "execution_count": null,
      "outputs": [
        {
          "output_type": "stream",
          "text": [
            "0.7814345174716871\n",
            "0.24334527151292226\n"
          ],
          "name": "stdout"
        }
      ]
    },
    {
      "cell_type": "code",
      "metadata": {
        "id": "AjJqdjugF8LJ",
        "colab_type": "code",
        "colab": {
          "base_uri": "https://localhost:8080/",
          "height": 556
        },
        "outputId": "e4ffa957-ddf8-4280-a8e9-9c42ddb2d71a"
      },
      "source": [
        "rent_data['hoa (R$)'].plot()\n",
        "rent_data[rent_data['hoa (R$)'] > 10000]"
      ],
      "execution_count": null,
      "outputs": [
        {
          "output_type": "execute_result",
          "data": {
            "text/html": [
              "<div>\n",
              "<style scoped>\n",
              "    .dataframe tbody tr th:only-of-type {\n",
              "        vertical-align: middle;\n",
              "    }\n",
              "\n",
              "    .dataframe tbody tr th {\n",
              "        vertical-align: top;\n",
              "    }\n",
              "\n",
              "    .dataframe thead th {\n",
              "        text-align: right;\n",
              "    }\n",
              "</style>\n",
              "<table border=\"1\" class=\"dataframe\">\n",
              "  <thead>\n",
              "    <tr style=\"text-align: right;\">\n",
              "      <th></th>\n",
              "      <th>city</th>\n",
              "      <th>area</th>\n",
              "      <th>rooms</th>\n",
              "      <th>bathroom</th>\n",
              "      <th>parking spaces</th>\n",
              "      <th>floor</th>\n",
              "      <th>animal</th>\n",
              "      <th>furniture</th>\n",
              "      <th>hoa (R$)</th>\n",
              "      <th>rent amount (R$)</th>\n",
              "      <th>property tax (R$)</th>\n",
              "      <th>fire insurance (R$)</th>\n",
              "      <th>total (R$)</th>\n",
              "    </tr>\n",
              "  </thead>\n",
              "  <tbody>\n",
              "    <tr>\n",
              "      <th>254</th>\n",
              "      <td>1</td>\n",
              "      <td>155</td>\n",
              "      <td>1</td>\n",
              "      <td>4</td>\n",
              "      <td>0</td>\n",
              "      <td>4</td>\n",
              "      <td>0</td>\n",
              "      <td>0</td>\n",
              "      <td>1117000</td>\n",
              "      <td>2790</td>\n",
              "      <td>64</td>\n",
              "      <td>38</td>\n",
              "      <td>1120000</td>\n",
              "    </tr>\n",
              "    <tr>\n",
              "      <th>414</th>\n",
              "      <td>5</td>\n",
              "      <td>488</td>\n",
              "      <td>4</td>\n",
              "      <td>3</td>\n",
              "      <td>3</td>\n",
              "      <td>0</td>\n",
              "      <td>1</td>\n",
              "      <td>0</td>\n",
              "      <td>14130</td>\n",
              "      <td>6400</td>\n",
              "      <td>1214</td>\n",
              "      <td>82</td>\n",
              "      <td>21820</td>\n",
              "    </tr>\n",
              "    <tr>\n",
              "      <th>1208</th>\n",
              "      <td>5</td>\n",
              "      <td>850</td>\n",
              "      <td>6</td>\n",
              "      <td>7</td>\n",
              "      <td>4</td>\n",
              "      <td>0</td>\n",
              "      <td>0</td>\n",
              "      <td>0</td>\n",
              "      <td>15000</td>\n",
              "      <td>13000</td>\n",
              "      <td>2465</td>\n",
              "      <td>196</td>\n",
              "      <td>30660</td>\n",
              "    </tr>\n",
              "    <tr>\n",
              "      <th>1432</th>\n",
              "      <td>3</td>\n",
              "      <td>42</td>\n",
              "      <td>1</td>\n",
              "      <td>1</td>\n",
              "      <td>0</td>\n",
              "      <td>10</td>\n",
              "      <td>1</td>\n",
              "      <td>0</td>\n",
              "      <td>32000</td>\n",
              "      <td>700</td>\n",
              "      <td>40</td>\n",
              "      <td>11</td>\n",
              "      <td>32750</td>\n",
              "    </tr>\n",
              "    <tr>\n",
              "      <th>2818</th>\n",
              "      <td>5</td>\n",
              "      <td>285</td>\n",
              "      <td>4</td>\n",
              "      <td>5</td>\n",
              "      <td>4</td>\n",
              "      <td>6</td>\n",
              "      <td>1</td>\n",
              "      <td>1</td>\n",
              "      <td>200000</td>\n",
              "      <td>20000</td>\n",
              "      <td>1834</td>\n",
              "      <td>254</td>\n",
              "      <td>222100</td>\n",
              "    </tr>\n",
              "    <tr>\n",
              "      <th>2886</th>\n",
              "      <td>4</td>\n",
              "      <td>35</td>\n",
              "      <td>1</td>\n",
              "      <td>1</td>\n",
              "      <td>0</td>\n",
              "      <td>1</td>\n",
              "      <td>1</td>\n",
              "      <td>1</td>\n",
              "      <td>81150</td>\n",
              "      <td>4500</td>\n",
              "      <td>9900</td>\n",
              "      <td>58</td>\n",
              "      <td>95610</td>\n",
              "    </tr>\n",
              "    <tr>\n",
              "      <th>5193</th>\n",
              "      <td>5</td>\n",
              "      <td>850</td>\n",
              "      <td>5</td>\n",
              "      <td>7</td>\n",
              "      <td>8</td>\n",
              "      <td>1</td>\n",
              "      <td>0</td>\n",
              "      <td>0</td>\n",
              "      <td>14000</td>\n",
              "      <td>4000</td>\n",
              "      <td>0</td>\n",
              "      <td>51</td>\n",
              "      <td>18050</td>\n",
              "    </tr>\n",
              "    <tr>\n",
              "      <th>6094</th>\n",
              "      <td>5</td>\n",
              "      <td>340</td>\n",
              "      <td>5</td>\n",
              "      <td>4</td>\n",
              "      <td>2</td>\n",
              "      <td>7</td>\n",
              "      <td>1</td>\n",
              "      <td>0</td>\n",
              "      <td>220000</td>\n",
              "      <td>12000</td>\n",
              "      <td>1000</td>\n",
              "      <td>153</td>\n",
              "      <td>233200</td>\n",
              "    </tr>\n",
              "  </tbody>\n",
              "</table>\n",
              "</div>"
            ],
            "text/plain": [
              "      city  area  rooms  ...  property tax (R$)  fire insurance (R$)  total (R$)\n",
              "254      1   155      1  ...                 64                   38     1120000\n",
              "414      5   488      4  ...               1214                   82       21820\n",
              "1208     5   850      6  ...               2465                  196       30660\n",
              "1432     3    42      1  ...                 40                   11       32750\n",
              "2818     5   285      4  ...               1834                  254      222100\n",
              "2886     4    35      1  ...               9900                   58       95610\n",
              "5193     5   850      5  ...                  0                   51       18050\n",
              "6094     5   340      5  ...               1000                  153      233200\n",
              "\n",
              "[8 rows x 13 columns]"
            ]
          },
          "metadata": {
            "tags": []
          },
          "execution_count": 327
        },
        {
          "output_type": "display_data",
          "data": {
            "image/png": "[encoded data removed]",
            "text/plain": [
              "<Figure size 432x288 with 1 Axes>"
            ]
          },
          "metadata": {
            "tags": []
          }
        }
      ]
    },
    {
      "cell_type": "markdown",
      "metadata": {
        "id": "ngHL0iUkJqVi",
        "colab_type": "text"
      },
      "source": [
        "Encontramos instâncias que parecem ter valores absurdos do suposto valor de condomínio (incluindo um superior a 1 milhão). Vamos tirar as instâncias com mais de 30000 pra ser minimamente plausível."
      ]
    },
    {
      "cell_type": "code",
      "metadata": {
        "id": "xCpEoIIdF2i-",
        "colab_type": "code",
        "colab": {}
      },
      "source": [
        "#10331\n",
        "rent_data = rent_data[rent_data['hoa (R$)'] < 30000]\n",
        "#10326"
      ],
      "execution_count": null,
      "outputs": []
    },
    {
      "cell_type": "code",
      "metadata": {
        "id": "ZnmTxNnHLo_n",
        "colab_type": "code",
        "colab": {
          "base_uri": "https://localhost:8080/",
          "height": 282
        },
        "outputId": "24c85b9f-6b7b-478f-ab9c-86391bbf660e"
      },
      "source": [
        "rent_data['hoa (R$)'].plot()"
      ],
      "execution_count": null,
      "outputs": [
        {
          "output_type": "execute_result",
          "data": {
            "text/plain": [
              "<matplotlib.axes._subplots.AxesSubplot at 0x7f89375b4208>"
            ]
          },
          "metadata": {
            "tags": []
          },
          "execution_count": 329
        },
        {
          "output_type": "display_data",
          "data": {
            "image/png": "[encoded data removed]",
            "text/plain": [
              "<Figure size 432x288 with 1 Axes>"
            ]
          },
          "metadata": {
            "tags": []
          }
        }
      ]
    },
    {
      "cell_type": "code",
      "metadata": {
        "id": "BEZdxmbmLtcQ",
        "colab_type": "code",
        "colab": {
          "base_uri": "https://localhost:8080/",
          "height": 282
        },
        "outputId": "1a695fbb-ddfc-49ac-d317-ce1ca3b8bb7a"
      },
      "source": [
        "rent_data['rent amount (R$)'].plot()"
      ],
      "execution_count": null,
      "outputs": [
        {
          "output_type": "execute_result",
          "data": {
            "text/plain": [
              "<matplotlib.axes._subplots.AxesSubplot at 0x7f893759d4a8>"
            ]
          },
          "metadata": {
            "tags": []
          },
          "execution_count": 330
        },
        {
          "output_type": "display_data",
          "data": {
            "image/png": "[encoded data removed]",
            "text/plain": [
              "<Figure size 432x288 with 1 Axes>"
            ]
          },
          "metadata": {
            "tags": []
          }
        }
      ]
    },
    {
      "cell_type": "code",
      "metadata": {
        "id": "BTT_dzSRNu54",
        "colab_type": "code",
        "colab": {
          "base_uri": "https://localhost:8080/",
          "height": 390
        },
        "outputId": "75887734-2358-42fd-b8bb-97350cf8678e"
      },
      "source": [
        "rent_data['property tax (R$)'].plot()\n",
        "rent_data[rent_data['property tax (R$)'] > 20000]"
      ],
      "execution_count": null,
      "outputs": [
        {
          "output_type": "execute_result",
          "data": {
            "text/html": [
              "<div>\n",
              "<style scoped>\n",
              "    .dataframe tbody tr th:only-of-type {\n",
              "        vertical-align: middle;\n",
              "    }\n",
              "\n",
              "    .dataframe tbody tr th {\n",
              "        vertical-align: top;\n",
              "    }\n",
              "\n",
              "    .dataframe thead th {\n",
              "        text-align: right;\n",
              "    }\n",
              "</style>\n",
              "<table border=\"1\" class=\"dataframe\">\n",
              "  <thead>\n",
              "    <tr style=\"text-align: right;\">\n",
              "      <th></th>\n",
              "      <th>city</th>\n",
              "      <th>area</th>\n",
              "      <th>rooms</th>\n",
              "      <th>bathroom</th>\n",
              "      <th>parking spaces</th>\n",
              "      <th>floor</th>\n",
              "      <th>animal</th>\n",
              "      <th>furniture</th>\n",
              "      <th>hoa (R$)</th>\n",
              "      <th>rent amount (R$)</th>\n",
              "      <th>property tax (R$)</th>\n",
              "      <th>fire insurance (R$)</th>\n",
              "      <th>total (R$)</th>\n",
              "    </tr>\n",
              "  </thead>\n",
              "  <tbody>\n",
              "    <tr>\n",
              "      <th>1683</th>\n",
              "      <td>5</td>\n",
              "      <td>700</td>\n",
              "      <td>4</td>\n",
              "      <td>4</td>\n",
              "      <td>4</td>\n",
              "      <td>0</td>\n",
              "      <td>1</td>\n",
              "      <td>0</td>\n",
              "      <td>0</td>\n",
              "      <td>10000</td>\n",
              "      <td>21880</td>\n",
              "      <td>151</td>\n",
              "      <td>32040</td>\n",
              "    </tr>\n",
              "    <tr>\n",
              "      <th>6107</th>\n",
              "      <td>4</td>\n",
              "      <td>95</td>\n",
              "      <td>2</td>\n",
              "      <td>2</td>\n",
              "      <td>1</td>\n",
              "      <td>11</td>\n",
              "      <td>1</td>\n",
              "      <td>0</td>\n",
              "      <td>1024</td>\n",
              "      <td>3000</td>\n",
              "      <td>28120</td>\n",
              "      <td>39</td>\n",
              "      <td>32180</td>\n",
              "    </tr>\n",
              "    <tr>\n",
              "      <th>6495</th>\n",
              "      <td>5</td>\n",
              "      <td>42</td>\n",
              "      <td>1</td>\n",
              "      <td>2</td>\n",
              "      <td>1</td>\n",
              "      <td>6</td>\n",
              "      <td>0</td>\n",
              "      <td>0</td>\n",
              "      <td>690</td>\n",
              "      <td>2500</td>\n",
              "      <td>313700</td>\n",
              "      <td>32</td>\n",
              "      <td>316900</td>\n",
              "    </tr>\n",
              "  </tbody>\n",
              "</table>\n",
              "</div>"
            ],
            "text/plain": [
              "      city  area  rooms  ...  property tax (R$)  fire insurance (R$)  total (R$)\n",
              "1683     5   700      4  ...              21880                  151       32040\n",
              "6107     4    95      2  ...              28120                   39       32180\n",
              "6495     5    42      1  ...             313700                   32      316900\n",
              "\n",
              "[3 rows x 13 columns]"
            ]
          },
          "metadata": {
            "tags": []
          },
          "execution_count": 331
        },
        {
          "output_type": "display_data",
          "data": {
            "image/png": "[encoded data removed]",
            "text/plain": [
              "<Figure size 432x288 with 1 Axes>"
            ]
          },
          "metadata": {
            "tags": []
          }
        }
      ]
    },
    {
      "cell_type": "markdown",
      "metadata": {
        "id": "e5DgxMbIPA_9",
        "colab_type": "text"
      },
      "source": [
        "Novamente vemos um grande outlier, dessa vez no IPTU. Se o cidadão está pagando 300000 de IPTU num apartamento de 1 quarto e 42 de área, ou tá em esquema ou tá sendo roubado pelo governo. Dá pra aceitar o de 21880 pelo tamanho da casa."
      ]
    },
    {
      "cell_type": "code",
      "metadata": {
        "id": "HzpqcveBOfyC",
        "colab_type": "code",
        "colab": {}
      },
      "source": [
        "#10326\n",
        "rent_data = rent_data[rent_data['property tax (R$)'] < 25000]\n",
        "#10324"
      ],
      "execution_count": null,
      "outputs": []
    },
    {
      "cell_type": "code",
      "metadata": {
        "id": "yTt41khCP6z3",
        "colab_type": "code",
        "colab": {
          "base_uri": "https://localhost:8080/",
          "height": 282
        },
        "outputId": "2fbcbfdd-4fe9-478e-ac00-8ebfc78736b4"
      },
      "source": [
        "rent_data['property tax (R$)'].plot()"
      ],
      "execution_count": null,
      "outputs": [
        {
          "output_type": "execute_result",
          "data": {
            "text/plain": [
              "<matplotlib.axes._subplots.AxesSubplot at 0x7f89375ff7f0>"
            ]
          },
          "metadata": {
            "tags": []
          },
          "execution_count": 333
        },
        {
          "output_type": "display_data",
          "data": {
            "image/png": "[encoded data removed]",
            "text/plain": [
              "<Figure size 432x288 with 1 Axes>"
            ]
          },
          "metadata": {
            "tags": []
          }
        }
      ]
    },
    {
      "cell_type": "code",
      "metadata": {
        "id": "Zqst62nOQOek",
        "colab_type": "code",
        "colab": {
          "base_uri": "https://localhost:8080/",
          "height": 283
        },
        "outputId": "afe4403e-613c-41fe-bcee-feb2cfa66470"
      },
      "source": [
        "rent_data['fire insurance (R$)'].plot()"
      ],
      "execution_count": null,
      "outputs": [
        {
          "output_type": "execute_result",
          "data": {
            "text/plain": [
              "<matplotlib.axes._subplots.AxesSubplot at 0x7f893743bac8>"
            ]
          },
          "metadata": {
            "tags": []
          },
          "execution_count": 334
        },
        {
          "output_type": "display_data",
          "data": {
            "image/png": "[encoded data removed]",
            "text/plain": [
              "<Figure size 432x288 with 1 Axes>"
            ]
          },
          "metadata": {
            "tags": []
          }
        }
      ]
    },
    {
      "cell_type": "code",
      "metadata": {
        "id": "uEG2qJKrQinQ",
        "colab_type": "code",
        "colab": {
          "base_uri": "https://localhost:8080/",
          "height": 282
        },
        "outputId": "3824a93c-0209-4e8f-a14a-1bd856388d28"
      },
      "source": [
        "rent_data['total (R$)'].plot()"
      ],
      "execution_count": null,
      "outputs": [
        {
          "output_type": "execute_result",
          "data": {
            "text/plain": [
              "<matplotlib.axes._subplots.AxesSubplot at 0x7f89373e2a58>"
            ]
          },
          "metadata": {
            "tags": []
          },
          "execution_count": 335
        },
        {
          "output_type": "display_data",
          "data": {
            "image/png": "[encoded data removed]",
            "text/plain": [
              "<Figure size 432x288 with 1 Axes>"
            ]
          },
          "metadata": {
            "tags": []
          }
        }
      ]
    },
    {
      "cell_type": "code",
      "metadata": {
        "id": "IdKENhUy-Ng2",
        "colab_type": "code",
        "colab": {}
      },
      "source": [
        "rent_data.reset_index(drop=True, inplace=True)"
      ],
      "execution_count": null,
      "outputs": []
    },
    {
      "cell_type": "markdown",
      "metadata": {
        "id": "-mUmOdMuR2EX",
        "colab_type": "text"
      },
      "source": [
        "Pronto! Demos uma limpada no dataset. \n",
        "\n",
        "Agora vamos analisar se existe algum viés que pode influenciar nossos modelos."
      ]
    },
    {
      "cell_type": "code",
      "metadata": {
        "id": "lZjMqtqxSG3W",
        "colab_type": "code",
        "colab": {
          "base_uri": "https://localhost:8080/",
          "height": 252
        },
        "outputId": "008cb46b-af67-44f3-bfe9-d862fb725075"
      },
      "source": [
        "rent_data.groupby(['city']).mean()"
      ],
      "execution_count": null,
      "outputs": [
        {
          "output_type": "execute_result",
          "data": {
            "text/html": [
              "<div>\n",
              "<style scoped>\n",
              "    .dataframe tbody tr th:only-of-type {\n",
              "        vertical-align: middle;\n",
              "    }\n",
              "\n",
              "    .dataframe tbody tr th {\n",
              "        vertical-align: top;\n",
              "    }\n",
              "\n",
              "    .dataframe thead th {\n",
              "        text-align: right;\n",
              "    }\n",
              "</style>\n",
              "<table border=\"1\" class=\"dataframe\">\n",
              "  <thead>\n",
              "    <tr style=\"text-align: right;\">\n",
              "      <th></th>\n",
              "      <th>area</th>\n",
              "      <th>rooms</th>\n",
              "      <th>bathroom</th>\n",
              "      <th>parking spaces</th>\n",
              "      <th>floor</th>\n",
              "      <th>animal</th>\n",
              "      <th>furniture</th>\n",
              "      <th>hoa (R$)</th>\n",
              "      <th>rent amount (R$)</th>\n",
              "      <th>property tax (R$)</th>\n",
              "      <th>fire insurance (R$)</th>\n",
              "      <th>total (R$)</th>\n",
              "    </tr>\n",
              "    <tr>\n",
              "      <th>city</th>\n",
              "      <th></th>\n",
              "      <th></th>\n",
              "      <th></th>\n",
              "      <th></th>\n",
              "      <th></th>\n",
              "      <th></th>\n",
              "      <th></th>\n",
              "      <th></th>\n",
              "      <th></th>\n",
              "      <th></th>\n",
              "      <th></th>\n",
              "      <th></th>\n",
              "    </tr>\n",
              "  </thead>\n",
              "  <tbody>\n",
              "    <tr>\n",
              "      <th>1</th>\n",
              "      <td>174.768848</td>\n",
              "      <td>3.064623</td>\n",
              "      <td>2.433306</td>\n",
              "      <td>1.998343</td>\n",
              "      <td>3.905551</td>\n",
              "      <td>0.744822</td>\n",
              "      <td>0.135046</td>\n",
              "      <td>562.243579</td>\n",
              "      <td>3739.141674</td>\n",
              "      <td>279.833471</td>\n",
              "      <td>54.801160</td>\n",
              "      <td>4636.316487</td>\n",
              "    </tr>\n",
              "    <tr>\n",
              "      <th>2</th>\n",
              "      <td>124.684915</td>\n",
              "      <td>2.360097</td>\n",
              "      <td>1.972019</td>\n",
              "      <td>1.572993</td>\n",
              "      <td>4.327251</td>\n",
              "      <td>0.809002</td>\n",
              "      <td>0.135036</td>\n",
              "      <td>638.180049</td>\n",
              "      <td>2393.862530</td>\n",
              "      <td>151.215328</td>\n",
              "      <td>32.783455</td>\n",
              "      <td>3216.059611</td>\n",
              "    </tr>\n",
              "    <tr>\n",
              "      <th>3</th>\n",
              "      <td>105.464007</td>\n",
              "      <td>2.172593</td>\n",
              "      <td>1.745880</td>\n",
              "      <td>1.052905</td>\n",
              "      <td>3.973114</td>\n",
              "      <td>0.856895</td>\n",
              "      <td>0.254987</td>\n",
              "      <td>469.463140</td>\n",
              "      <td>2350.898526</td>\n",
              "      <td>126.725065</td>\n",
              "      <td>36.665221</td>\n",
              "      <td>2983.770165</td>\n",
              "    </tr>\n",
              "    <tr>\n",
              "      <th>4</th>\n",
              "      <td>107.622113</td>\n",
              "      <td>2.277117</td>\n",
              "      <td>1.780966</td>\n",
              "      <td>0.762771</td>\n",
              "      <td>5.323303</td>\n",
              "      <td>0.800560</td>\n",
              "      <td>0.281316</td>\n",
              "      <td>1057.217635</td>\n",
              "      <td>3326.419174</td>\n",
              "      <td>240.757873</td>\n",
              "      <td>43.693492</td>\n",
              "      <td>4668.101470</td>\n",
              "    </tr>\n",
              "    <tr>\n",
              "      <th>5</th>\n",
              "      <td>157.852792</td>\n",
              "      <td>2.594609</td>\n",
              "      <td>2.502363</td>\n",
              "      <td>1.919832</td>\n",
              "      <td>5.633292</td>\n",
              "      <td>0.765272</td>\n",
              "      <td>0.269911</td>\n",
              "      <td>1114.277963</td>\n",
              "      <td>4722.400665</td>\n",
              "      <td>451.551374</td>\n",
              "      <td>63.388412</td>\n",
              "      <td>6351.900228</td>\n",
              "    </tr>\n",
              "  </tbody>\n",
              "</table>\n",
              "</div>"
            ],
            "text/plain": [
              "            area     rooms  ...  fire insurance (R$)   total (R$)\n",
              "city                        ...                                  \n",
              "1     174.768848  3.064623  ...            54.801160  4636.316487\n",
              "2     124.684915  2.360097  ...            32.783455  3216.059611\n",
              "3     105.464007  2.172593  ...            36.665221  2983.770165\n",
              "4     107.622113  2.277117  ...            43.693492  4668.101470\n",
              "5     157.852792  2.594609  ...            63.388412  6351.900228\n",
              "\n",
              "[5 rows x 12 columns]"
            ]
          },
          "metadata": {
            "tags": []
          },
          "execution_count": 337
        }
      ]
    },
    {
      "cell_type": "code",
      "metadata": {
        "id": "c4ON4MDoRR9v",
        "colab_type": "code",
        "colab": {
          "base_uri": "https://localhost:8080/",
          "height": 235
        },
        "outputId": "8353f2a2-7702-468f-a1ee-bc73686a0ebe"
      },
      "source": [
        "aux = rent_data.groupby(['city']).mean()\n",
        "aux[['area', 'rooms', 'animal', 'hoa (R$)', 'total (R$)']]"
      ],
      "execution_count": null,
      "outputs": [
        {
          "output_type": "execute_result",
          "data": {
            "text/html": [
              "<div>\n",
              "<style scoped>\n",
              "    .dataframe tbody tr th:only-of-type {\n",
              "        vertical-align: middle;\n",
              "    }\n",
              "\n",
              "    .dataframe tbody tr th {\n",
              "        vertical-align: top;\n",
              "    }\n",
              "\n",
              "    .dataframe thead th {\n",
              "        text-align: right;\n",
              "    }\n",
              "</style>\n",
              "<table border=\"1\" class=\"dataframe\">\n",
              "  <thead>\n",
              "    <tr style=\"text-align: right;\">\n",
              "      <th></th>\n",
              "      <th>area</th>\n",
              "      <th>rooms</th>\n",
              "      <th>animal</th>\n",
              "      <th>hoa (R$)</th>\n",
              "      <th>total (R$)</th>\n",
              "    </tr>\n",
              "    <tr>\n",
              "      <th>city</th>\n",
              "      <th></th>\n",
              "      <th></th>\n",
              "      <th></th>\n",
              "      <th></th>\n",
              "      <th></th>\n",
              "    </tr>\n",
              "  </thead>\n",
              "  <tbody>\n",
              "    <tr>\n",
              "      <th>1</th>\n",
              "      <td>174.768848</td>\n",
              "      <td>3.064623</td>\n",
              "      <td>0.744822</td>\n",
              "      <td>562.243579</td>\n",
              "      <td>4636.316487</td>\n",
              "    </tr>\n",
              "    <tr>\n",
              "      <th>2</th>\n",
              "      <td>124.684915</td>\n",
              "      <td>2.360097</td>\n",
              "      <td>0.809002</td>\n",
              "      <td>638.180049</td>\n",
              "      <td>3216.059611</td>\n",
              "    </tr>\n",
              "    <tr>\n",
              "      <th>3</th>\n",
              "      <td>105.464007</td>\n",
              "      <td>2.172593</td>\n",
              "      <td>0.856895</td>\n",
              "      <td>469.463140</td>\n",
              "      <td>2983.770165</td>\n",
              "    </tr>\n",
              "    <tr>\n",
              "      <th>4</th>\n",
              "      <td>107.622113</td>\n",
              "      <td>2.277117</td>\n",
              "      <td>0.800560</td>\n",
              "      <td>1057.217635</td>\n",
              "      <td>4668.101470</td>\n",
              "    </tr>\n",
              "    <tr>\n",
              "      <th>5</th>\n",
              "      <td>157.852792</td>\n",
              "      <td>2.594609</td>\n",
              "      <td>0.765272</td>\n",
              "      <td>1114.277963</td>\n",
              "      <td>6351.900228</td>\n",
              "    </tr>\n",
              "  </tbody>\n",
              "</table>\n",
              "</div>"
            ],
            "text/plain": [
              "            area     rooms    animal     hoa (R$)   total (R$)\n",
              "city                                                          \n",
              "1     174.768848  3.064623  0.744822   562.243579  4636.316487\n",
              "2     124.684915  2.360097  0.809002   638.180049  3216.059611\n",
              "3     105.464007  2.172593  0.856895   469.463140  2983.770165\n",
              "4     107.622113  2.277117  0.800560  1057.217635  4668.101470\n",
              "5     157.852792  2.594609  0.765272  1114.277963  6351.900228"
            ]
          },
          "metadata": {
            "tags": []
          },
          "execution_count": 338
        }
      ]
    },
    {
      "cell_type": "markdown",
      "metadata": {
        "id": "vuWoBurJumjV",
        "colab_type": "text"
      },
      "source": [
        "Podemos ver que a média dos valores de São Paulo são superiores as das outras cidades, mas não de forma absurda, inclusive isto pode de fato refletir a realidade."
      ]
    },
    {
      "cell_type": "code",
      "metadata": {
        "id": "BzmDa7EVuiZ0",
        "colab_type": "code",
        "colab": {
          "base_uri": "https://localhost:8080/",
          "height": 424
        },
        "outputId": "e4ffeda8-e488-40b7-d89f-34414fba0a8a"
      },
      "source": [
        "#2.0\n",
        "plt.figure(figsize=(16,5))\n",
        "sns.heatmap(data=rent_data.corr(), annot=True)\n",
        "#sns.pairplot(rent_data)"
      ],
      "execution_count": null,
      "outputs": [
        {
          "output_type": "execute_result",
          "data": {
            "text/plain": [
              "<matplotlib.axes._subplots.AxesSubplot at 0x7f893735a908>"
            ]
          },
          "metadata": {
            "tags": []
          },
          "execution_count": 339
        },
        {
          "output_type": "display_data",
          "data": {
            "image/png": "[encoded data removed]",
            "text/plain": [
              "<Figure size 1152x360 with 2 Axes>"
            ]
          },
          "metadata": {
            "tags": []
          }
        }
      ]
    },
    {
      "cell_type": "markdown",
      "metadata": {
        "id": "DE55poX1Tzkb",
        "colab_type": "text"
      },
      "source": [
        "IDH (PNUD/2010):\n",
        "*   Belo Horizonte: 0.810\n",
        "*   Campinas: 0.805\n",
        "* Porto Alegre: 0.805\n",
        "* Rio de Janeiro: 0.799\n",
        "* São Paulo: 0.805\n",
        "\n",
        "IFDM (Firjan/2018):\n",
        "*   Belo Horizonte: 0.8219\n",
        "*   Campinas: 0.8501\n",
        "* Porto Alegre: 0.7804\n",
        "* Rio de Janeiro: 0.7886\n",
        "* São Paulo: 0.8370\n",
        "\n",
        "PIB per capita (IBGE/2016):\n",
        "* Belo Horizonte: BRL 35.122,01\n",
        "* Campinas: BRL 49.876,62\n",
        "* Porto Alegre: BRL 46.122,79\n",
        "* Rio de Janeiro: BRL 50.690,82\n",
        "* São Paulo: BRL 57.071,43\n",
        "\n",
        "Custo mensal estimado (expatistan.com):\n",
        "*   Belo Horizonte: BRL 3.697\n",
        "*   Campinas: BRL 4.142\n",
        "* Porto Alegre: BRL 4.476\n",
        "* Rio de Janeiro: BRL 5.437\n",
        "* São Paulo: BRL 5.550\n",
        "\n",
        "Vamos criar um novo dataframe com esses dados\n",
        "\n"
      ]
    },
    {
      "cell_type": "code",
      "metadata": {
        "id": "FK7Ii-P2iv6s",
        "colab_type": "code",
        "colab": {
          "base_uri": "https://localhost:8080/",
          "height": 204
        },
        "outputId": "23f8ac7c-d6f7-4a95-8fa5-114b51764328"
      },
      "source": [
        "city_info = {'city':['Belo Horizonte', 'Campinas', 'Porto Alegre', 'Rio de Janeiro', 'São Paulo'], \n",
        "              'idh':[0.810, 0.805, 0.805, 0.799, 0.805],\n",
        "             'ifdm':[0.8219, 0.8501, 0.7804, 0.7886, 0.8370],\n",
        "             'pib/c':[35122.01, 49876.62, 46122.79, 50690.82, 57071.43],\n",
        "             'custo':[3697, 4142, 4476, 5437, 5550]}\n",
        "            \n",
        "city_data = pd.DataFrame(city_info)\n",
        "city_data"
      ],
      "execution_count": null,
      "outputs": [
        {
          "output_type": "execute_result",
          "data": {
            "text/html": [
              "<div>\n",
              "<style scoped>\n",
              "    .dataframe tbody tr th:only-of-type {\n",
              "        vertical-align: middle;\n",
              "    }\n",
              "\n",
              "    .dataframe tbody tr th {\n",
              "        vertical-align: top;\n",
              "    }\n",
              "\n",
              "    .dataframe thead th {\n",
              "        text-align: right;\n",
              "    }\n",
              "</style>\n",
              "<table border=\"1\" class=\"dataframe\">\n",
              "  <thead>\n",
              "    <tr style=\"text-align: right;\">\n",
              "      <th></th>\n",
              "      <th>city</th>\n",
              "      <th>idh</th>\n",
              "      <th>ifdm</th>\n",
              "      <th>pib/c</th>\n",
              "      <th>custo</th>\n",
              "    </tr>\n",
              "  </thead>\n",
              "  <tbody>\n",
              "    <tr>\n",
              "      <th>0</th>\n",
              "      <td>Belo Horizonte</td>\n",
              "      <td>0.810</td>\n",
              "      <td>0.8219</td>\n",
              "      <td>35122.01</td>\n",
              "      <td>3697</td>\n",
              "    </tr>\n",
              "    <tr>\n",
              "      <th>1</th>\n",
              "      <td>Campinas</td>\n",
              "      <td>0.805</td>\n",
              "      <td>0.8501</td>\n",
              "      <td>49876.62</td>\n",
              "      <td>4142</td>\n",
              "    </tr>\n",
              "    <tr>\n",
              "      <th>2</th>\n",
              "      <td>Porto Alegre</td>\n",
              "      <td>0.805</td>\n",
              "      <td>0.7804</td>\n",
              "      <td>46122.79</td>\n",
              "      <td>4476</td>\n",
              "    </tr>\n",
              "    <tr>\n",
              "      <th>3</th>\n",
              "      <td>Rio de Janeiro</td>\n",
              "      <td>0.799</td>\n",
              "      <td>0.7886</td>\n",
              "      <td>50690.82</td>\n",
              "      <td>5437</td>\n",
              "    </tr>\n",
              "    <tr>\n",
              "      <th>4</th>\n",
              "      <td>São Paulo</td>\n",
              "      <td>0.805</td>\n",
              "      <td>0.8370</td>\n",
              "      <td>57071.43</td>\n",
              "      <td>5550</td>\n",
              "    </tr>\n",
              "  </tbody>\n",
              "</table>\n",
              "</div>"
            ],
            "text/plain": [
              "             city    idh    ifdm     pib/c  custo\n",
              "0  Belo Horizonte  0.810  0.8219  35122.01   3697\n",
              "1        Campinas  0.805  0.8501  49876.62   4142\n",
              "2    Porto Alegre  0.805  0.7804  46122.79   4476\n",
              "3  Rio de Janeiro  0.799  0.7886  50690.82   5437\n",
              "4       São Paulo  0.805  0.8370  57071.43   5550"
            ]
          },
          "metadata": {
            "tags": []
          },
          "execution_count": 66
        }
      ]
    },
    {
      "cell_type": "markdown",
      "metadata": {
        "id": "Z6gY3_lDu1E1",
        "colab_type": "text"
      },
      "source": [
        "MACHINE LEARNING TIME!!!\n",
        "\n",
        "Bora fazer o computador trabalhar um pouco\n",
        "\n",
        "Vamos usar duas abordagens, uma de classificação e uma de regressão.\n",
        "\n",
        "Primeiro, vamos tentar classificar, através dos outros atributos do dataset, um imóvel em uma cidade.\n",
        "\n",
        "Ou seja, através de características como número de quartos, de vagas, área, preço do aluguel, vamos classificar se esta entrada é de BH, Campinas, etc.\n",
        "\n",
        "Depois, vamos inverter os jogadores. E através de regressão, vamos estimar o valor de um aluguel, usando como parâmetros a cidade, número de quartos, se está mobiliada, e também vamos testar com os dados das cidades para ver se temos um melhor resultado."
      ]
    },
    {
      "cell_type": "code",
      "metadata": {
        "id": "vJwSDPk0xtDK",
        "colab_type": "code",
        "colab": {}
      },
      "source": [
        "from sklearn.preprocessing import scale\n",
        "\n",
        "rent_target = rent_data.iloc[:,0]\n",
        "rent_attr = rent_data.iloc[:,1:]\n",
        "\n",
        "scaled_rent_attr = scale(rent_attr, with_mean=True)"
      ],
      "execution_count": null,
      "outputs": []
    },
    {
      "cell_type": "code",
      "metadata": {
        "id": "NozpYp28J2nF",
        "colab_type": "code",
        "colab": {
          "base_uri": "https://localhost:8080/",
          "height": 221
        },
        "outputId": "8a300a99-4ea3-4b03-ccbb-553427f74de1"
      },
      "source": [
        "type(rent_target)\n",
        "rent_target.shape\n",
        "rent_target"
      ],
      "execution_count": null,
      "outputs": [
        {
          "output_type": "execute_result",
          "data": {
            "text/plain": [
              "0        5\n",
              "1        5\n",
              "2        3\n",
              "3        3\n",
              "4        5\n",
              "        ..\n",
              "10319    3\n",
              "10320    5\n",
              "10321    4\n",
              "10322    4\n",
              "10323    5\n",
              "Name: city, Length: 10324, dtype: int64"
            ]
          },
          "metadata": {
            "tags": []
          },
          "execution_count": 119
        }
      ]
    },
    {
      "cell_type": "code",
      "metadata": {
        "id": "yhiuHFtp36Dq",
        "colab_type": "code",
        "colab": {
          "base_uri": "https://localhost:8080/",
          "height": 238
        },
        "outputId": "96a3af79-1996-4bec-9a17-edab791d2513"
      },
      "source": [
        "scaled_rent_attr"
      ],
      "execution_count": null,
      "outputs": [
        {
          "output_type": "execute_result",
          "data": {
            "text/plain": [
              "array([[-0.5494633 , -0.46232399, -0.89689523, ..., -0.20760645,\n",
              "        -0.25427539,  0.07210887],\n",
              "       [ 1.29719679,  1.25058929,  1.2255558 , ...,  2.22935501,\n",
              "         0.18208417,  0.59370568],\n",
              "       [-0.4755969 , -1.31878063, -0.89689523, ..., -0.54171877,\n",
              "        -0.27505442, -0.3214697 ],\n",
              "       ...,\n",
              "       [-0.5494633 ,  0.39413265,  0.51807213, ..., -0.01600649,\n",
              "         0.49376958,  0.46458001],\n",
              "       [-0.18013128, -0.46232399, -0.18941155, ..., -0.09993044,\n",
              "         2.09375465,  1.93302452],\n",
              "       [-0.4755969 , -0.46232399, -0.89689523, ..., -0.2804461 ,\n",
              "        -0.66985593, -0.82069653]])"
            ]
          },
          "metadata": {
            "tags": []
          },
          "execution_count": 120
        }
      ]
    },
    {
      "cell_type": "code",
      "metadata": {
        "id": "hmd0Eo8aBh1t",
        "colab_type": "code",
        "colab": {}
      },
      "source": [
        "from sklearn.model_selection import StratifiedKFold\n",
        "from sklearn.metrics import accuracy_score, precision_score, recall_score, f1_score\n",
        "\n",
        "def evaluate_model(model, X, y):\n",
        "  print(\"Evaluating \"+model)\n",
        "  nsplits = 10\n",
        "  kfold = StratifiedKFold(n_splits=nsplits)\n",
        "\n",
        "  accuracy_sum = 0\n",
        "  precision_sum = 0\n",
        "  recall_sum = 0\n",
        "  f1_sum = 0\n",
        "\n",
        "  for train_index, test_index in kfold.split(X, y):\n",
        "    \n",
        "    X_train, X_test = X[train_index], X[test_index]\n",
        "    y_train, y_test = y.iloc[train_index], y.iloc[test_index]\n",
        "    \n",
        "    experimentos[model].fit(X_train, y_train)\n",
        "    \n",
        "    pred = experimentos[model].predict(X_test)\n",
        "\n",
        "    accuracy = accuracy_score(y_test, pred)\n",
        "    accuracy_sum = accuracy_sum + accuracy\n",
        "\n",
        "    precision = precision_score(y_test, pred, average='macro') # tp / (tp + fp)\n",
        "    precision_sum = precision_sum + precision\n",
        "\n",
        "    recall = recall_score(y_test, pred, average='macro') # tp / (tp + fn)\n",
        "    recall_sum = recall_sum + recall\n",
        "\n",
        "    f1 = f1_score(y_test, pred, average='macro')\n",
        "    f1_sum = f1_sum + f1\n",
        "\n",
        "  print(\"Accuracy: %.2f%%\" % ((accuracy_sum/nsplits)*100))\n",
        "  print(\"Precision: %.2f%%\" % ((precision_sum/nsplits)*100))\n",
        "  print(\"Recall: %.2f%%\" % ((recall_sum/nsplits)*100))\n",
        "  print(\"F1: %.2f%%\" % ((f1_sum/nsplits)*100))\n",
        "  \n",
        "  return accuracy_sum/nsplits"
      ],
      "execution_count": null,
      "outputs": []
    },
    {
      "cell_type": "code",
      "metadata": {
        "id": "rMO6FWr5ClZP",
        "colab_type": "code",
        "colab": {}
      },
      "source": [
        "from sklearn.svm import SVC\n",
        "from sklearn.neural_network import MLPClassifier\n",
        "from sklearn.linear_model import Perceptron\n",
        "from sklearn.naive_bayes import GaussianNB\n",
        "from sklearn.tree import DecisionTreeClassifier\n",
        "from sklearn.neighbors import KNeighborsClassifier\n",
        "from sklearn.ensemble import RandomForestClassifier\n",
        "\n",
        "experimentos = {\n",
        "    #\"Perceptron\": Perceptron(), #0.50\n",
        "    #\"Naive Bayes\": GaussianNB(), #0.35\n",
        "    #\"Decision Tree\": DecisionTreeClassifier(), #0.61\n",
        "    #\"Random Forest\": RandomForestClassifier(), #0.72\n",
        "    #\"Random Forest80ent\": RandomForestClassifier(n_estimators=80, criterion='entropy'), #0.72\n",
        "    #\"Random Forest100ent\": RandomForestClassifier(n_estimators=100, criterion='entropy'), #0.72\n",
        "    \"Random Forest120ent\": RandomForestClassifier(n_estimators=120, criterion='entropy'), #0.72\n",
        "    #\"Random Forest80\": RandomForestClassifier(n_estimators=80), #0.72\n",
        "    #\"Random Forest100\": RandomForestClassifier(n_estimators=100), #0.72\n",
        "    #\"Random Forest120\": RandomForestClassifier(n_estimators=120), #0.72\n",
        "    #'Knn': KNeighborsClassifier(), #0.62\n",
        "    #\"SVC\": SVC(), #0.59\n",
        "    \"MLP hidden (100,10)\": MLPClassifier(hidden_layer_sizes=(100,10), max_iter=500, learning_rate_init=0.01), #0.79\n",
        "    \"MLP hidden (100,20)\": MLPClassifier(hidden_layer_sizes=(100,20), max_iter=500, learning_rate_init=0.01), #0.79\n",
        "}"
      ],
      "execution_count": null,
      "outputs": []
    },
    {
      "cell_type": "code",
      "metadata": {
        "id": "EtKvshdeFF7_",
        "colab_type": "code",
        "colab": {
          "base_uri": "https://localhost:8080/",
          "height": 306
        },
        "outputId": "c1f49c86-d7fe-4afd-a0a7-3a75abed89f4"
      },
      "source": [
        "best = 0\n",
        "best_acc = 0\n",
        "\n",
        "for exp in experimentos:\n",
        "  acc = evaluate_model(exp, scaled_rent_attr, rent_target)\n",
        "  #print(exp +\" accuracy is \"+ str(acc))\n",
        "\n",
        "  if(acc > best_acc):\n",
        "    best = exp\n",
        "    best_acc = acc\n",
        "\n",
        "print(\"\\nThe best classifier was \"+best+\" with \"+str(best_acc)+\" accuracy\")"
      ],
      "execution_count": null,
      "outputs": [
        {
          "output_type": "stream",
          "text": [
            "Evaluating Random Forest120ent\n",
            "Accuracy: 72.07%\n",
            "Precision: 69.09%\n",
            "Recall: 55.51%\n",
            "F1: 60.26%\n",
            "Evaluating MLP hidden (100,10)\n",
            "Accuracy: 77.54%\n",
            "Precision: 71.57%\n",
            "Recall: 65.93%\n",
            "F1: 67.58%\n",
            "Evaluating MLP hidden (100,20)\n",
            "Accuracy: 79.62%\n",
            "Precision: 74.88%\n",
            "Recall: 70.14%\n",
            "F1: 71.89%\n",
            "\n",
            "The best classifier was MLP hidden (100,20) with 0.796200481025387 accuracy\n"
          ],
          "name": "stdout"
        }
      ]
    },
    {
      "cell_type": "code",
      "metadata": {
        "id": "tsfy0ysHD_zb",
        "colab_type": "code",
        "colab": {
          "base_uri": "https://localhost:8080/",
          "height": 238
        },
        "outputId": "eae3db02-1ba8-44c8-a9db-3294c51fbcfb"
      },
      "source": [
        "experimentos['MLP hidden (100,10)'].predict_proba(scaled_rent_attr)"
      ],
      "execution_count": null,
      "outputs": [
        {
          "output_type": "execute_result",
          "data": {
            "text/plain": [
              "array([[4.70496313e-04, 2.01110182e-04, 2.51529409e-06, 1.73738033e-01,\n",
              "        8.25587845e-01],\n",
              "       [6.72686017e-02, 4.13290887e-02, 5.09234292e-08, 3.58578668e-01,\n",
              "        5.32823590e-01],\n",
              "       [5.88257687e-03, 8.03616740e-07, 9.93930597e-01, 1.85817949e-04,\n",
              "        2.04093838e-07],\n",
              "       ...,\n",
              "       [1.17844755e-02, 2.25588667e-05, 8.41278047e-07, 9.18481055e-01,\n",
              "        6.97110694e-02],\n",
              "       [1.92317646e-02, 9.48693088e-03, 3.74727696e-08, 1.94727186e-01,\n",
              "        7.76554081e-01],\n",
              "       [5.57680379e-02, 8.16007105e-02, 1.39695544e-03, 6.91280718e-02,\n",
              "        7.92106224e-01]])"
            ]
          },
          "metadata": {
            "tags": []
          },
          "execution_count": 48
        }
      ]
    },
    {
      "cell_type": "markdown",
      "metadata": {
        "id": "vT2rQMaFCcnS",
        "colab_type": "text"
      },
      "source": [
        "Treinamos nossos modelos e observamos que o MLP conseguiu um resultado bem melhor que os outros, inclusive consideravelmente bom, acertando quase 80% das previsões para as 5 cidades.\n",
        "\n",
        "Masss, não vamos dar o benefício da dúvida. Lembra que nosso dataset tinha muito mais instâncias de São Paulo? Bem, se eu fosse classificar uma casa, sem saber nada, chutaria São Paulo e acertaria uma boa parcela das vezes. Então vamos equilibrar nossas instâncias por classe.\n",
        "\n",
        "PS: Vamos balancear o dataset do jeito mais fácil, coletando uma amostra do tamanho da menor classe, de cada classe. Isso tem um impacto já que perdemos informação com esse 'corte', tendo menos instâncias para treino."
      ]
    },
    {
      "cell_type": "code",
      "metadata": {
        "id": "PrsI5t0hFOnX",
        "colab_type": "code",
        "colab": {
          "base_uri": "https://localhost:8080/",
          "height": 278
        },
        "outputId": "95832462-b34e-4ca5-8f55-5edbfbad3263"
      },
      "source": [
        "rent_data['city'].value_counts(sort=False).sort_index().plot(kind='bar')\n",
        "labels = ['Belo Horizonte', 'Campinas', 'Porto Alegre', 'Rio de Janeiro', 'São Paulo']\n",
        "plt.xticks([0,1,2,3,4], labels, rotation=10)\n",
        "plt.show()"
      ],
      "execution_count": null,
      "outputs": [
        {
          "output_type": "display_data",
          "data": {
            "image/png": "[encoded data removed]",
            "text/plain": [
              "<Figure size 432x288 with 1 Axes>"
            ]
          },
          "metadata": {
            "tags": []
          }
        }
      ]
    },
    {
      "cell_type": "code",
      "metadata": {
        "id": "WjDbttI1p6zD",
        "colab_type": "code",
        "colab": {}
      },
      "source": [
        "#2.0\n",
        "# BALANCEAMENTO USANDO UNDERSAMPLING\n",
        "bln_rent_data = rent_data.groupby('city')\n",
        "bln_rent_data = pd.DataFrame(bln_rent_data.apply(lambda x: x.sample(bln_rent_data.size().min(), replace=False).reset_index(drop=True)))"
      ],
      "execution_count": null,
      "outputs": []
    },
    {
      "cell_type": "code",
      "metadata": {
        "id": "_ste4VhgHC4m",
        "colab_type": "code",
        "colab": {
          "base_uri": "https://localhost:8080/",
          "height": 278
        },
        "outputId": "49b645dd-5f61-4d52-999f-66f7ac21add3"
      },
      "source": [
        "bln_rent_data['city'].value_counts(sort=False).sort_index().plot(kind='bar')\n",
        "labels = ['Belo Horizonte', 'Campinas', 'Porto Alegre', 'Rio de Janeiro', 'São Paulo']\n",
        "plt.xticks([0,1,2,3,4], labels, rotation=10)\n",
        "plt.show()"
      ],
      "execution_count": null,
      "outputs": [
        {
          "output_type": "display_data",
          "data": {
            "image/png": "[encoded data removed]",
            "text/plain": [
              "<Figure size 432x288 with 1 Axes>"
            ]
          },
          "metadata": {
            "tags": []
          }
        }
      ]
    },
    {
      "cell_type": "code",
      "metadata": {
        "id": "AZGK5l8qIVxE",
        "colab_type": "code",
        "colab": {
          "base_uri": "https://localhost:8080/",
          "height": 34
        },
        "outputId": "a7ffb90e-a8ec-4e76-c8fb-70529ea2e547"
      },
      "source": [
        "len(bln_rent_data)"
      ],
      "execution_count": null,
      "outputs": [
        {
          "output_type": "execute_result",
          "data": {
            "text/plain": [
              "4110"
            ]
          },
          "metadata": {
            "tags": []
          },
          "execution_count": 135
        }
      ]
    },
    {
      "cell_type": "code",
      "metadata": {
        "id": "5_6msKKVN0Q3",
        "colab_type": "code",
        "colab": {}
      },
      "source": [
        "bln_rent_target = bln_rent_data.iloc[:,0]\n",
        "bln_rent_attr = bln_rent_data.iloc[:,1:]\n",
        "\n",
        "scaled_bln_rent_attr = scale(bln_rent_attr, with_mean=True)"
      ],
      "execution_count": null,
      "outputs": []
    },
    {
      "cell_type": "code",
      "metadata": {
        "id": "UsxHeSFMODUE",
        "colab_type": "code",
        "colab": {
          "base_uri": "https://localhost:8080/",
          "height": 306
        },
        "outputId": "0db073a0-556f-4af6-b62f-6563af8abdcd"
      },
      "source": [
        "best = 0\n",
        "best_acc = 0\n",
        "\n",
        "for exp in experimentos:\n",
        "  acc = evaluate_model(exp, scaled_bln_rent_attr, bln_rent_target)\n",
        "  #print(exp +\" accuracy is \"+ str(acc))\n",
        "\n",
        "  if(acc > best_acc):\n",
        "    best = exp\n",
        "    best_acc = acc\n",
        "\n",
        "print(\"\\nThe best classifier was \"+best+\" with \"+str(best_acc)+\" accuracy\")"
      ],
      "execution_count": null,
      "outputs": [
        {
          "output_type": "stream",
          "text": [
            "Evaluating Random Forest120ent\n",
            "Accuracy: 61.70%\n",
            "Precision: 62.17%\n",
            "Recall: 61.70%\n",
            "F1: 61.74%\n",
            "Evaluating MLP hidden (100,10)\n",
            "Accuracy: 71.31%\n",
            "Precision: 71.80%\n",
            "Recall: 71.31%\n",
            "F1: 71.26%\n",
            "Evaluating MLP hidden (100,20)\n",
            "Accuracy: 72.48%\n",
            "Precision: 73.19%\n",
            "Recall: 72.49%\n",
            "F1: 72.41%\n",
            "\n",
            "The best classifier was MLP hidden (100,20) with 0.7248175182481751 accuracy\n"
          ],
          "name": "stdout"
        }
      ]
    },
    {
      "cell_type": "markdown",
      "metadata": {
        "id": "8L7A7rRAT5VK",
        "colab_type": "text"
      },
      "source": [
        "Pois é...\n",
        "\n",
        "A acurácia dos modelos diminuiu com o balanceamento do dataset, mas não absurdamente. E podemos ver que as outras métricas aumentaram, tendo um modelo mais conciso."
      ]
    },
    {
      "cell_type": "markdown",
      "metadata": {
        "id": "OwJR9ooUijmj",
        "colab_type": "text"
      },
      "source": [
        "2.0 - Teste PCA"
      ]
    },
    {
      "cell_type": "code",
      "metadata": {
        "id": "iFR1xYeXhvLh",
        "colab_type": "code",
        "colab": {}
      },
      "source": [
        "from sklearn.decomposition import PCA\n",
        "\n",
        "pca = PCA(n_components=5)\n",
        "pca.fit(scaled_bln_rent_attr)\n",
        "reduced_scaled_bln_rent_attr = pca.transform(scaled_bln_rent_attr)"
      ],
      "execution_count": null,
      "outputs": []
    },
    {
      "cell_type": "code",
      "metadata": {
        "id": "ebDzI96lh3Qn",
        "colab_type": "code",
        "colab": {
          "base_uri": "https://localhost:8080/",
          "height": 34
        },
        "outputId": "2e758d31-ccad-488b-9567-0be994394277"
      },
      "source": [
        "print(sum(pca.explained_variance_ratio_))"
      ],
      "execution_count": null,
      "outputs": [
        {
          "output_type": "stream",
          "text": [
            "0.8333375631437735\n"
          ],
          "name": "stdout"
        }
      ]
    },
    {
      "cell_type": "code",
      "metadata": {
        "id": "XJ8pUjOhh9eW",
        "colab_type": "code",
        "colab": {
          "base_uri": "https://localhost:8080/",
          "height": 306
        },
        "outputId": "f0bd321c-38f5-4e07-e7d1-35aa132317fe"
      },
      "source": [
        "best = 0\n",
        "best_acc = 0\n",
        "\n",
        "for exp in experimentos:\n",
        "  acc = evaluate_model(exp, reduced_scaled_bln_rent_attr, bln_rent_target)\n",
        "\n",
        "  if(acc > best_acc):\n",
        "    best = exp\n",
        "    best_acc = acc\n",
        "\n",
        "print(\"\\nThe best classifier was \"+best+\" with \"+str(best_acc)+\" accuracy\")"
      ],
      "execution_count": null,
      "outputs": [
        {
          "output_type": "stream",
          "text": [
            "Evaluating Random Forest120ent\n",
            "Accuracy: 44.18%\n",
            "Precision: 44.05%\n",
            "Recall: 44.19%\n",
            "F1: 43.95%\n",
            "Evaluating MLP hidden (100,10)\n",
            "Accuracy: 43.14%\n",
            "Precision: 43.18%\n",
            "Recall: 43.14%\n",
            "F1: 42.59%\n",
            "Evaluating MLP hidden (100,20)\n",
            "Accuracy: 44.14%\n",
            "Precision: 44.21%\n",
            "Recall: 44.14%\n",
            "F1: 43.84%\n",
            "\n",
            "The best classifier was Random Forest120ent with 0.44184914841849154 accuracy\n"
          ],
          "name": "stdout"
        }
      ]
    },
    {
      "cell_type": "markdown",
      "metadata": {
        "id": "j5x2SHkXkeo_",
        "colab_type": "text"
      },
      "source": [
        "2.0 - Teste Curva ROC\n",
        "\n",
        "Foi feita a tentativa, mas como esse problema não é de classificação binária, não tive sucesso."
      ]
    },
    {
      "cell_type": "markdown",
      "metadata": {
        "id": "ZJsEJlglWJ7D",
        "colab_type": "text"
      },
      "source": [
        "Bacana, temos um modelo de classificação de casas para aluguel nessas 5 cidades, com uma boa eficácia. É interessante, mas eu particularmente, não encontrei uma aplicação útil onde isso pode ser utilizado. Bora fazer algo mais prático?\n",
        "\n",
        "E se utilizarmos os atributos da residência, para estimar um valor de aluguel? Assim, um proprietário poderia descobrir por quanto alugar seu imóvel."
      ]
    },
    {
      "cell_type": "markdown",
      "metadata": {
        "id": "gy5rLv4qW7BR",
        "colab_type": "text"
      },
      "source": [
        "Primeira coisa, vamos ver quais atributos são interessantes para nosso modelo.\n",
        "\n",
        "Cidade, área, quartos, banheiros, vagas, andar, animais e mobília são úteis.\n",
        "\n",
        "Os outros atributos são valores que compõe o total, porém faz sentido utilizar o valor de condomínio, IPTU e seguro de incêncio para determinar o valor do aluguel. Portanto, só não usaremos o total, pois isso depende diretamente do que queremos estimar.\n",
        "\n",
        "Depois, vamos testar com os atributos das cidades que buscamos."
      ]
    },
    {
      "cell_type": "code",
      "metadata": {
        "id": "LwuBbjT3UUb-",
        "colab_type": "code",
        "colab": {
          "base_uri": "https://localhost:8080/",
          "height": 204
        },
        "outputId": "f1cca112-0d31-47da-aa29-8ea41fe8428d"
      },
      "source": [
        "rent_data.head()"
      ],
      "execution_count": null,
      "outputs": [
        {
          "output_type": "execute_result",
          "data": {
            "text/html": [
              "<div>\n",
              "<style scoped>\n",
              "    .dataframe tbody tr th:only-of-type {\n",
              "        vertical-align: middle;\n",
              "    }\n",
              "\n",
              "    .dataframe tbody tr th {\n",
              "        vertical-align: top;\n",
              "    }\n",
              "\n",
              "    .dataframe thead th {\n",
              "        text-align: right;\n",
              "    }\n",
              "</style>\n",
              "<table border=\"1\" class=\"dataframe\">\n",
              "  <thead>\n",
              "    <tr style=\"text-align: right;\">\n",
              "      <th></th>\n",
              "      <th>city</th>\n",
              "      <th>area</th>\n",
              "      <th>rooms</th>\n",
              "      <th>bathroom</th>\n",
              "      <th>parking spaces</th>\n",
              "      <th>floor</th>\n",
              "      <th>animal</th>\n",
              "      <th>furniture</th>\n",
              "      <th>hoa (R$)</th>\n",
              "      <th>rent amount (R$)</th>\n",
              "      <th>property tax (R$)</th>\n",
              "      <th>fire insurance (R$)</th>\n",
              "      <th>total (R$)</th>\n",
              "    </tr>\n",
              "  </thead>\n",
              "  <tbody>\n",
              "    <tr>\n",
              "      <th>0</th>\n",
              "      <td>5</td>\n",
              "      <td>70</td>\n",
              "      <td>2</td>\n",
              "      <td>1</td>\n",
              "      <td>1</td>\n",
              "      <td>7</td>\n",
              "      <td>1</td>\n",
              "      <td>1</td>\n",
              "      <td>2065</td>\n",
              "      <td>3300</td>\n",
              "      <td>211</td>\n",
              "      <td>42</td>\n",
              "      <td>5618</td>\n",
              "    </tr>\n",
              "    <tr>\n",
              "      <th>1</th>\n",
              "      <td>5</td>\n",
              "      <td>320</td>\n",
              "      <td>4</td>\n",
              "      <td>4</td>\n",
              "      <td>0</td>\n",
              "      <td>20</td>\n",
              "      <td>1</td>\n",
              "      <td>0</td>\n",
              "      <td>1200</td>\n",
              "      <td>4960</td>\n",
              "      <td>1750</td>\n",
              "      <td>63</td>\n",
              "      <td>7973</td>\n",
              "    </tr>\n",
              "    <tr>\n",
              "      <th>2</th>\n",
              "      <td>3</td>\n",
              "      <td>80</td>\n",
              "      <td>1</td>\n",
              "      <td>1</td>\n",
              "      <td>1</td>\n",
              "      <td>6</td>\n",
              "      <td>1</td>\n",
              "      <td>0</td>\n",
              "      <td>1000</td>\n",
              "      <td>2800</td>\n",
              "      <td>0</td>\n",
              "      <td>41</td>\n",
              "      <td>3841</td>\n",
              "    </tr>\n",
              "    <tr>\n",
              "      <th>3</th>\n",
              "      <td>3</td>\n",
              "      <td>51</td>\n",
              "      <td>2</td>\n",
              "      <td>1</td>\n",
              "      <td>0</td>\n",
              "      <td>2</td>\n",
              "      <td>1</td>\n",
              "      <td>0</td>\n",
              "      <td>270</td>\n",
              "      <td>1112</td>\n",
              "      <td>22</td>\n",
              "      <td>17</td>\n",
              "      <td>1421</td>\n",
              "    </tr>\n",
              "    <tr>\n",
              "      <th>4</th>\n",
              "      <td>5</td>\n",
              "      <td>25</td>\n",
              "      <td>1</td>\n",
              "      <td>1</td>\n",
              "      <td>0</td>\n",
              "      <td>1</td>\n",
              "      <td>0</td>\n",
              "      <td>0</td>\n",
              "      <td>0</td>\n",
              "      <td>800</td>\n",
              "      <td>25</td>\n",
              "      <td>11</td>\n",
              "      <td>836</td>\n",
              "    </tr>\n",
              "  </tbody>\n",
              "</table>\n",
              "</div>"
            ],
            "text/plain": [
              "   city  area  rooms  ...  property tax (R$)  fire insurance (R$)  total (R$)\n",
              "0     5    70      2  ...                211                   42        5618\n",
              "1     5   320      4  ...               1750                   63        7973\n",
              "2     3    80      1  ...                  0                   41        3841\n",
              "3     3    51      2  ...                 22                   17        1421\n",
              "4     5    25      1  ...                 25                   11         836\n",
              "\n",
              "[5 rows x 13 columns]"
            ]
          },
          "metadata": {
            "tags": []
          },
          "execution_count": 138
        }
      ]
    },
    {
      "cell_type": "code",
      "metadata": {
        "id": "EqquzT7FWIS3",
        "colab_type": "code",
        "colab": {}
      },
      "source": [
        "house_feat = rent_data[['city', 'area', 'rooms', 'bathroom', 'parking spaces', 'floor', 'animal', 'furniture']]\n",
        "house_feat_cost = rent_data[['city', 'area', 'rooms', 'bathroom', 'parking spaces', 'floor', \n",
        "                                      'animal', 'furniture', 'hoa (R$)', 'property tax (R$)', 'fire insurance (R$)']]\n",
        "house_rent = rent_data['rent amount (R$)']\n",
        "house_total = rent_data['total (R$)']\n",
        "\n",
        "scaled_house_feat = scale(house_feat, with_mean=True)\n",
        "scaled_house_feat_cost = scale(house_feat_cost, with_mean=True)"
      ],
      "execution_count": null,
      "outputs": []
    },
    {
      "cell_type": "code",
      "metadata": {
        "id": "o3Nmw3EBbwwC",
        "colab_type": "code",
        "colab": {
          "base_uri": "https://localhost:8080/",
          "height": 204
        },
        "outputId": "ca139175-6c1e-44a7-f981-4921ed9fcf5d"
      },
      "source": [
        "house_feat_cost.head()"
      ],
      "execution_count": null,
      "outputs": [
        {
          "output_type": "execute_result",
          "data": {
            "text/html": [
              "<div>\n",
              "<style scoped>\n",
              "    .dataframe tbody tr th:only-of-type {\n",
              "        vertical-align: middle;\n",
              "    }\n",
              "\n",
              "    .dataframe tbody tr th {\n",
              "        vertical-align: top;\n",
              "    }\n",
              "\n",
              "    .dataframe thead th {\n",
              "        text-align: right;\n",
              "    }\n",
              "</style>\n",
              "<table border=\"1\" class=\"dataframe\">\n",
              "  <thead>\n",
              "    <tr style=\"text-align: right;\">\n",
              "      <th></th>\n",
              "      <th>city</th>\n",
              "      <th>area</th>\n",
              "      <th>rooms</th>\n",
              "      <th>bathroom</th>\n",
              "      <th>parking spaces</th>\n",
              "      <th>floor</th>\n",
              "      <th>animal</th>\n",
              "      <th>furniture</th>\n",
              "      <th>hoa (R$)</th>\n",
              "      <th>property tax (R$)</th>\n",
              "      <th>fire insurance (R$)</th>\n",
              "    </tr>\n",
              "  </thead>\n",
              "  <tbody>\n",
              "    <tr>\n",
              "      <th>0</th>\n",
              "      <td>5</td>\n",
              "      <td>70</td>\n",
              "      <td>2</td>\n",
              "      <td>1</td>\n",
              "      <td>1</td>\n",
              "      <td>7</td>\n",
              "      <td>1</td>\n",
              "      <td>1</td>\n",
              "      <td>2065</td>\n",
              "      <td>211</td>\n",
              "      <td>42</td>\n",
              "    </tr>\n",
              "    <tr>\n",
              "      <th>1</th>\n",
              "      <td>5</td>\n",
              "      <td>320</td>\n",
              "      <td>4</td>\n",
              "      <td>4</td>\n",
              "      <td>0</td>\n",
              "      <td>20</td>\n",
              "      <td>1</td>\n",
              "      <td>0</td>\n",
              "      <td>1200</td>\n",
              "      <td>1750</td>\n",
              "      <td>63</td>\n",
              "    </tr>\n",
              "    <tr>\n",
              "      <th>2</th>\n",
              "      <td>3</td>\n",
              "      <td>80</td>\n",
              "      <td>1</td>\n",
              "      <td>1</td>\n",
              "      <td>1</td>\n",
              "      <td>6</td>\n",
              "      <td>1</td>\n",
              "      <td>0</td>\n",
              "      <td>1000</td>\n",
              "      <td>0</td>\n",
              "      <td>41</td>\n",
              "    </tr>\n",
              "    <tr>\n",
              "      <th>3</th>\n",
              "      <td>3</td>\n",
              "      <td>51</td>\n",
              "      <td>2</td>\n",
              "      <td>1</td>\n",
              "      <td>0</td>\n",
              "      <td>2</td>\n",
              "      <td>1</td>\n",
              "      <td>0</td>\n",
              "      <td>270</td>\n",
              "      <td>22</td>\n",
              "      <td>17</td>\n",
              "    </tr>\n",
              "    <tr>\n",
              "      <th>4</th>\n",
              "      <td>5</td>\n",
              "      <td>25</td>\n",
              "      <td>1</td>\n",
              "      <td>1</td>\n",
              "      <td>0</td>\n",
              "      <td>1</td>\n",
              "      <td>0</td>\n",
              "      <td>0</td>\n",
              "      <td>0</td>\n",
              "      <td>25</td>\n",
              "      <td>11</td>\n",
              "    </tr>\n",
              "  </tbody>\n",
              "</table>\n",
              "</div>"
            ],
            "text/plain": [
              "   city  area  rooms  ...  hoa (R$)  property tax (R$)  fire insurance (R$)\n",
              "0     5    70      2  ...      2065                211                   42\n",
              "1     5   320      4  ...      1200               1750                   63\n",
              "2     3    80      1  ...      1000                  0                   41\n",
              "3     3    51      2  ...       270                 22                   17\n",
              "4     5    25      1  ...         0                 25                   11\n",
              "\n",
              "[5 rows x 11 columns]"
            ]
          },
          "metadata": {
            "tags": []
          },
          "execution_count": 140
        }
      ]
    },
    {
      "cell_type": "code",
      "metadata": {
        "id": "8i66LVkBcDSf",
        "colab_type": "code",
        "colab": {}
      },
      "source": [
        "from sklearn.metrics import mean_squared_error\n",
        "#from sklearn.model_selection import train_test_split\n",
        "\n",
        "def estimate_model(model, X, y):\n",
        "  print(\"Estimating \"+model)\n",
        "  nsplits = 10\n",
        "  kfold = StratifiedKFold(n_splits=nsplits)\n",
        "\n",
        "  mse_sum = 0\n",
        "\n",
        "  for train_index, test_index in kfold.split(X, y):\n",
        "    \n",
        "    X_train, X_test = X[train_index], X[test_index]\n",
        "    y_train, y_test = y.iloc[train_index], y.iloc[test_index]\n",
        "    \n",
        "    regressores[model].fit(X_train, y_train)\n",
        "    \n",
        "    pred = regressores[model].predict(X_test)\n",
        "\n",
        "    mse = mean_squared_error(y_test, pred)\n",
        "    mse_sum = mse_sum + mse\n",
        "\n",
        "  print(\"MSE: \" + str(mse_sum/nsplits))\n",
        "  \n",
        "  return mse_sum/nsplits"
      ],
      "execution_count": null,
      "outputs": []
    },
    {
      "cell_type": "code",
      "metadata": {
        "id": "ZOpTOG05jIl-",
        "colab_type": "code",
        "colab": {}
      },
      "source": [
        "from sklearn.metrics import mean_squared_error\n",
        "from sklearn.model_selection import train_test_split\n",
        "\n",
        "def estimate_model_nofolds(model, X, y):\n",
        "  print(\"Estimating \"+model)\n",
        "\n",
        "  X_train, X_test, y_train, y_test = train_test_split(X, y, test_size=0.20, random_state=0)\n",
        "    \n",
        "  regressores[model].fit(X_train, y_train)\n",
        "    \n",
        "  pred = regressores[model].predict(X_test)\n",
        "\n",
        "  mse = mean_squared_error(y_test, pred)\n",
        "\n",
        "  print(\"MSE: \" + str(mse))\n",
        "  \n",
        "  return mse"
      ],
      "execution_count": null,
      "outputs": []
    },
    {
      "cell_type": "code",
      "metadata": {
        "id": "Kv0diTLJdroo",
        "colab_type": "code",
        "colab": {}
      },
      "source": [
        "from sklearn.svm import SVR\n",
        "from sklearn.neural_network import MLPRegressor\n",
        "from sklearn.linear_model import PassiveAggressiveRegressor, LinearRegression\n",
        "from sklearn.tree import DecisionTreeRegressor\n",
        "from sklearn.neighbors import KNeighborsRegressor\n",
        "from sklearn.ensemble import RandomForestRegressor, GradientBoostingRegressor\n",
        "\n",
        "regressores = {\n",
        "    #\"Random Forest\": RandomForestRegressor(), \n",
        "    #\"KNeighbors\": KNeighborsRegressor(), \n",
        "    #\"SVR\": SVR(),\n",
        "    #\"PassiveAggressive\": PassiveAggressiveRegressor(),\n",
        "    #\"Linear\": LinearRegression(),\n",
        "    #\"DecisionTree\": DecisionTreeRegressor(),\n",
        "    #\"GradientBoosting\": GradientBoostingRegressor(),\n",
        "    \"GradientBoosting\": GradientBoostingRegressor(learning_rate=0.18, n_estimators=120),\n",
        "    #\"MLP\": MLPRegressor(), #0.79\n",
        "}"
      ],
      "execution_count": null,
      "outputs": []
    },
    {
      "cell_type": "code",
      "metadata": {
        "id": "UdV5du3dej8e",
        "colab_type": "code",
        "colab": {
          "base_uri": "https://localhost:8080/",
          "height": 139
        },
        "outputId": "73e62cf7-b5da-4fa9-d166-3804a6615da0"
      },
      "source": [
        "best = 0\n",
        "best_mse = 5000000\n",
        "\n",
        "for reg in regressores:\n",
        "  mse = estimate_model(reg, scaled_house_feat_cost, house_rent)\n",
        "\n",
        "  if(mse < best_mse):\n",
        "    best = reg\n",
        "    best_mse = mse\n",
        "\n",
        "print(\"\\nThe best regressor was \"+best+\" with MSE of \"+str(best_mse))"
      ],
      "execution_count": null,
      "outputs": [
        {
          "output_type": "stream",
          "text": [
            "Estimating GradientBoosting\n"
          ],
          "name": "stdout"
        },
        {
          "output_type": "stream",
          "text": [
            "/usr/local/lib/python3.6/dist-packages/sklearn/model_selection/_split.py:667: UserWarning: The least populated class in y has only 1 members, which is less than n_splits=10.\n",
            "  % (min_groups, self.n_splits)), UserWarning)\n"
          ],
          "name": "stderr"
        },
        {
          "output_type": "stream",
          "text": [
            "MSE: 96808.64329257638\n",
            "\n",
            "The best regressor was GradientBoosting with MSE of 96808.64329257638\n"
          ],
          "name": "stdout"
        }
      ]
    },
    {
      "cell_type": "code",
      "metadata": {
        "id": "FBhCZ4m2r-Tj",
        "colab_type": "code",
        "colab": {}
      },
      "source": [
        "X_train, X_test, y_train, y_test = train_test_split(scaled_house_feat_cost, house_rent, test_size=0.20, random_state=0)\n",
        "#scaled_house_feat_cost, house_rent\n",
        "regressores['GradientBoosting'].fit(X_train, y_train)\n",
        "pred = regressores['GradientBoosting'].predict(X_test)"
      ],
      "execution_count": null,
      "outputs": []
    },
    {
      "cell_type": "code",
      "metadata": {
        "id": "oebxAi63ucsC",
        "colab_type": "code",
        "colab": {
          "base_uri": "https://localhost:8080/",
          "height": 289
        },
        "outputId": "924046d6-e2a7-4ace-dd09-2dec7e96c49f"
      },
      "source": [
        "y_test.reset_index(drop=True, inplace=True)\n",
        "print(\"Predict    Value\")\n",
        "for i in range(0, 15):\n",
        "\n",
        "  print(str(int(round(pred[i]))) +\"       \"+ str(y_test[i]))\n",
        "  #print(y_test[5])"
      ],
      "execution_count": null,
      "outputs": [
        {
          "output_type": "stream",
          "text": [
            "Predict    Value\n",
            "4085       4000\n",
            "1147       1090\n",
            "15017       15000\n",
            "3781       3800\n",
            "4327       4350\n",
            "15041       15000\n",
            "812       700\n",
            "1026       1000\n",
            "1898       1900\n",
            "1200       1200\n",
            "706       750\n",
            "1208       1584\n",
            "2584       2500\n",
            "2852       2900\n",
            "677       550\n"
          ],
          "name": "stdout"
        }
      ]
    },
    {
      "cell_type": "code",
      "metadata": {
        "id": "VKMHas_gTDbn",
        "colab_type": "code",
        "colab": {
          "base_uri": "https://localhost:8080/",
          "height": 320
        },
        "outputId": "9084a43f-5c54-479b-8614-df52a5115a98"
      },
      "source": [
        "fig, ax = plt.subplots(figsize=(20, 5))\n",
        "#figsize=(16,5)\n",
        "y_test[0:100].plot(ax=ax, alpha=1, marker='o', linestyle='None', color='black')\n",
        "#pred[0:100].plot(ax=ax)\n",
        "ax = plt.plot(pred[0:100], alpha=1, marker='*', linestyle='None', color='red')"
      ],
      "execution_count": null,
      "outputs": [
        {
          "output_type": "display_data",
          "data": {
            "image/png": "[encoded data removed]",
            "text/plain": [
              "<Figure size 1440x360 with 1 Axes>"
            ]
          },
          "metadata": {
            "tags": []
          }
        }
      ]
    },
    {
      "cell_type": "code",
      "metadata": {
        "id": "Ra77x3sVXpnn",
        "colab_type": "code",
        "colab": {
          "base_uri": "https://localhost:8080/",
          "height": 238
        },
        "outputId": "db3a50d3-c7a2-4f2d-c4d9-3c57dee2ef97"
      },
      "source": [
        "X_train"
      ],
      "execution_count": null,
      "outputs": [
        {
          "output_type": "execute_result",
          "data": {
            "text/plain": [
              "array([[-0.6537603 , -0.44605033,  0.39413265, ..., -0.7568048 ,\n",
              "        -0.47204606, -0.66985593],\n",
              "       [ 0.74959168, -0.83015563, -1.31878063, ...,  0.65684893,\n",
              "        -0.31686593, -0.54518177],\n",
              "       [ 0.74959168, -0.46821026, -0.46232399, ..., -0.19485549,\n",
              "        -0.19810562, -0.37894955],\n",
              "       ...,\n",
              "       [-0.6537603 ,  2.40519285,  0.39413265, ..., -0.81826801,\n",
              "         0.0061621 ,  0.24442125],\n",
              "       [ 0.74959168,  1.29719679,  0.39413265, ..., -0.81826801,\n",
              "         3.02109037,  2.63400935],\n",
              "       [-1.35543629, -0.18013128, -0.46232399, ..., -0.08949   ,\n",
              "        -0.39128905, -0.83608814]])"
            ]
          },
          "metadata": {
            "tags": []
          },
          "execution_count": 205
        }
      ]
    },
    {
      "cell_type": "code",
      "metadata": {
        "id": "VOFFJiMaYBzc",
        "colab_type": "code",
        "colab": {
          "base_uri": "https://localhost:8080/",
          "height": 204
        },
        "outputId": "cd0d6aa3-6c50-4417-f7e8-3cf677edb7a6"
      },
      "source": [
        "house_feat_cost.tail()"
      ],
      "execution_count": null,
      "outputs": [
        {
          "output_type": "execute_result",
          "data": {
            "text/html": [
              "<div>\n",
              "<style scoped>\n",
              "    .dataframe tbody tr th:only-of-type {\n",
              "        vertical-align: middle;\n",
              "    }\n",
              "\n",
              "    .dataframe tbody tr th {\n",
              "        vertical-align: top;\n",
              "    }\n",
              "\n",
              "    .dataframe thead th {\n",
              "        text-align: right;\n",
              "    }\n",
              "</style>\n",
              "<table border=\"1\" class=\"dataframe\">\n",
              "  <thead>\n",
              "    <tr style=\"text-align: right;\">\n",
              "      <th></th>\n",
              "      <th>city</th>\n",
              "      <th>area</th>\n",
              "      <th>rooms</th>\n",
              "      <th>bathroom</th>\n",
              "      <th>parking spaces</th>\n",
              "      <th>floor</th>\n",
              "      <th>animal</th>\n",
              "      <th>furniture</th>\n",
              "      <th>hoa (R$)</th>\n",
              "      <th>property tax (R$)</th>\n",
              "      <th>fire insurance (R$)</th>\n",
              "    </tr>\n",
              "  </thead>\n",
              "  <tbody>\n",
              "    <tr>\n",
              "      <th>10319</th>\n",
              "      <td>3</td>\n",
              "      <td>63</td>\n",
              "      <td>2</td>\n",
              "      <td>1</td>\n",
              "      <td>1</td>\n",
              "      <td>5</td>\n",
              "      <td>0</td>\n",
              "      <td>1</td>\n",
              "      <td>402</td>\n",
              "      <td>24</td>\n",
              "      <td>22</td>\n",
              "    </tr>\n",
              "    <tr>\n",
              "      <th>10320</th>\n",
              "      <td>5</td>\n",
              "      <td>285</td>\n",
              "      <td>4</td>\n",
              "      <td>4</td>\n",
              "      <td>4</td>\n",
              "      <td>17</td>\n",
              "      <td>1</td>\n",
              "      <td>0</td>\n",
              "      <td>3100</td>\n",
              "      <td>973</td>\n",
              "      <td>191</td>\n",
              "    </tr>\n",
              "    <tr>\n",
              "      <th>10321</th>\n",
              "      <td>4</td>\n",
              "      <td>70</td>\n",
              "      <td>3</td>\n",
              "      <td>3</td>\n",
              "      <td>0</td>\n",
              "      <td>8</td>\n",
              "      <td>0</td>\n",
              "      <td>1</td>\n",
              "      <td>980</td>\n",
              "      <td>332</td>\n",
              "      <td>78</td>\n",
              "    </tr>\n",
              "    <tr>\n",
              "      <th>10322</th>\n",
              "      <td>4</td>\n",
              "      <td>120</td>\n",
              "      <td>2</td>\n",
              "      <td>2</td>\n",
              "      <td>2</td>\n",
              "      <td>8</td>\n",
              "      <td>1</td>\n",
              "      <td>1</td>\n",
              "      <td>1585</td>\n",
              "      <td>279</td>\n",
              "      <td>155</td>\n",
              "    </tr>\n",
              "    <tr>\n",
              "      <th>10323</th>\n",
              "      <td>5</td>\n",
              "      <td>80</td>\n",
              "      <td>2</td>\n",
              "      <td>1</td>\n",
              "      <td>0</td>\n",
              "      <td>0</td>\n",
              "      <td>1</td>\n",
              "      <td>0</td>\n",
              "      <td>0</td>\n",
              "      <td>165</td>\n",
              "      <td>22</td>\n",
              "    </tr>\n",
              "  </tbody>\n",
              "</table>\n",
              "</div>"
            ],
            "text/plain": [
              "       city  area  rooms  ...  hoa (R$)  property tax (R$)  fire insurance (R$)\n",
              "10319     3    63      2  ...       402                 24                   22\n",
              "10320     5   285      4  ...      3100                973                  191\n",
              "10321     4    70      3  ...       980                332                   78\n",
              "10322     4   120      2  ...      1585                279                  155\n",
              "10323     5    80      2  ...         0                165                   22\n",
              "\n",
              "[5 rows x 11 columns]"
            ]
          },
          "metadata": {
            "tags": []
          },
          "execution_count": 226
        }
      ]
    },
    {
      "cell_type": "code",
      "metadata": {
        "id": "Dqmt5qmFXf-s",
        "colab_type": "code",
        "colab": {
          "base_uri": "https://localhost:8080/",
          "height": 34
        },
        "outputId": "dbea39eb-9026-4470-b0d5-a39bc3367884"
      },
      "source": [
        "# TESTAR COM NOVO EXEMPLO\n",
        "#['city', 'area', 'rooms', 'bathroom', 'parking spaces', 'floor', 'animal', 'furniture', 'hoa (R$)', 'property tax (R$)', 'fire insurance (R$)']\n",
        "random_example = {'city':5, 'area':30, 'rooms':1, 'bathroom':1, 'parking spaces':1, 'floor':3, \n",
        "                  'animal':0, 'furniture':0, 'hoa (R$)':200, 'property tax (R$)':50, 'fire insurance (R$)':20}\n",
        "\n",
        "data_and_example = house_feat_cost.append(random_example, ignore_index=True)\n",
        "scaled_data_and_example = scale(data_and_example, with_mean=True)\n",
        "scaled_example = scaled_data_and_example[-1]\n",
        "regressores['GradientBoosting'].predict([scaled_example])"
      ],
      "execution_count": null,
      "outputs": [
        {
          "output_type": "execute_result",
          "data": {
            "text/plain": [
              "array([1539.57824024])"
            ]
          },
          "metadata": {
            "tags": []
          },
          "execution_count": 264
        }
      ]
    }
  ]
}